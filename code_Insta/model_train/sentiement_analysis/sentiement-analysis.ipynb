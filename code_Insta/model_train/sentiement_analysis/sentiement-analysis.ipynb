{
 "cells": [
  {
   "cell_type": "code",
   "execution_count": 1,
   "id": "af210175",
   "metadata": {
    "_cell_guid": "b1076dfc-b9ad-4769-8c92-a6c4dae69d19",
    "_uuid": "8f2839f25d086af736a60e9eeb907d3b93b6e0e5",
    "execution": {
     "iopub.execute_input": "2025-05-26T17:37:30.277952Z",
     "iopub.status.busy": "2025-05-26T17:37:30.277622Z",
     "iopub.status.idle": "2025-05-26T17:37:50.024845Z",
     "shell.execute_reply": "2025-05-26T17:37:50.023767Z"
    },
    "papermill": {
     "duration": 19.755023,
     "end_time": "2025-05-26T17:37:50.026840",
     "exception": false,
     "start_time": "2025-05-26T17:37:30.271817",
     "status": "completed"
    },
    "tags": []
   },
   "outputs": [
    {
     "name": "stdout",
     "output_type": "stream",
     "text": [
      "Requirement already satisfied: spacy in /usr/local/lib/python3.11/dist-packages (3.8.5)\r\n",
      "Requirement already satisfied: spacy-legacy<3.1.0,>=3.0.11 in /usr/local/lib/python3.11/dist-packages (from spacy) (3.0.12)\r\n",
      "Requirement already satisfied: spacy-loggers<2.0.0,>=1.0.0 in /usr/local/lib/python3.11/dist-packages (from spacy) (1.0.5)\r\n",
      "Requirement already satisfied: murmurhash<1.1.0,>=0.28.0 in /usr/local/lib/python3.11/dist-packages (from spacy) (1.0.12)\r\n",
      "Requirement already satisfied: cymem<2.1.0,>=2.0.2 in /usr/local/lib/python3.11/dist-packages (from spacy) (2.0.11)\r\n",
      "Requirement already satisfied: preshed<3.1.0,>=3.0.2 in /usr/local/lib/python3.11/dist-packages (from spacy) (3.0.9)\r\n",
      "Requirement already satisfied: thinc<8.4.0,>=8.3.4 in /usr/local/lib/python3.11/dist-packages (from spacy) (8.3.4)\r\n",
      "Requirement already satisfied: wasabi<1.2.0,>=0.9.1 in /usr/local/lib/python3.11/dist-packages (from spacy) (1.1.3)\r\n",
      "Requirement already satisfied: srsly<3.0.0,>=2.4.3 in /usr/local/lib/python3.11/dist-packages (from spacy) (2.5.1)\r\n",
      "Requirement already satisfied: catalogue<2.1.0,>=2.0.6 in /usr/local/lib/python3.11/dist-packages (from spacy) (2.0.10)\r\n",
      "Requirement already satisfied: weasel<0.5.0,>=0.1.0 in /usr/local/lib/python3.11/dist-packages (from spacy) (0.4.1)\r\n",
      "Requirement already satisfied: typer<1.0.0,>=0.3.0 in /usr/local/lib/python3.11/dist-packages (from spacy) (0.15.2)\r\n",
      "Requirement already satisfied: tqdm<5.0.0,>=4.38.0 in /usr/local/lib/python3.11/dist-packages (from spacy) (4.67.1)\r\n",
      "Requirement already satisfied: numpy>=1.19.0 in /usr/local/lib/python3.11/dist-packages (from spacy) (1.26.4)\r\n",
      "Requirement already satisfied: requests<3.0.0,>=2.13.0 in /usr/local/lib/python3.11/dist-packages (from spacy) (2.32.3)\r\n",
      "Requirement already satisfied: pydantic!=1.8,!=1.8.1,<3.0.0,>=1.7.4 in /usr/local/lib/python3.11/dist-packages (from spacy) (2.11.4)\r\n",
      "Requirement already satisfied: jinja2 in /usr/local/lib/python3.11/dist-packages (from spacy) (3.1.6)\r\n",
      "Requirement already satisfied: setuptools in /usr/local/lib/python3.11/dist-packages (from spacy) (75.2.0)\r\n",
      "Requirement already satisfied: packaging>=20.0 in /usr/local/lib/python3.11/dist-packages (from spacy) (25.0)\r\n",
      "Requirement already satisfied: langcodes<4.0.0,>=3.2.0 in /usr/local/lib/python3.11/dist-packages (from spacy) (3.5.0)\r\n",
      "Requirement already satisfied: language-data>=1.2 in /usr/local/lib/python3.11/dist-packages (from langcodes<4.0.0,>=3.2.0->spacy) (1.3.0)\r\n",
      "Requirement already satisfied: mkl_fft in /usr/local/lib/python3.11/dist-packages (from numpy>=1.19.0->spacy) (1.3.8)\r\n",
      "Requirement already satisfied: mkl_random in /usr/local/lib/python3.11/dist-packages (from numpy>=1.19.0->spacy) (1.2.4)\r\n",
      "Requirement already satisfied: mkl_umath in /usr/local/lib/python3.11/dist-packages (from numpy>=1.19.0->spacy) (0.1.1)\r\n",
      "Requirement already satisfied: mkl in /usr/local/lib/python3.11/dist-packages (from numpy>=1.19.0->spacy) (2025.1.0)\r\n",
      "Requirement already satisfied: tbb4py in /usr/local/lib/python3.11/dist-packages (from numpy>=1.19.0->spacy) (2022.1.0)\r\n",
      "Requirement already satisfied: mkl-service in /usr/local/lib/python3.11/dist-packages (from numpy>=1.19.0->spacy) (2.4.1)\r\n",
      "Requirement already satisfied: annotated-types>=0.6.0 in /usr/local/lib/python3.11/dist-packages (from pydantic!=1.8,!=1.8.1,<3.0.0,>=1.7.4->spacy) (0.7.0)\r\n",
      "Requirement already satisfied: pydantic-core==2.33.2 in /usr/local/lib/python3.11/dist-packages (from pydantic!=1.8,!=1.8.1,<3.0.0,>=1.7.4->spacy) (2.33.2)\r\n",
      "Requirement already satisfied: typing-extensions>=4.12.2 in /usr/local/lib/python3.11/dist-packages (from pydantic!=1.8,!=1.8.1,<3.0.0,>=1.7.4->spacy) (4.13.2)\r\n",
      "Requirement already satisfied: typing-inspection>=0.4.0 in /usr/local/lib/python3.11/dist-packages (from pydantic!=1.8,!=1.8.1,<3.0.0,>=1.7.4->spacy) (0.4.0)\r\n",
      "Requirement already satisfied: charset-normalizer<4,>=2 in /usr/local/lib/python3.11/dist-packages (from requests<3.0.0,>=2.13.0->spacy) (3.4.2)\r\n",
      "Requirement already satisfied: idna<4,>=2.5 in /usr/local/lib/python3.11/dist-packages (from requests<3.0.0,>=2.13.0->spacy) (3.10)\r\n",
      "Requirement already satisfied: urllib3<3,>=1.21.1 in /usr/local/lib/python3.11/dist-packages (from requests<3.0.0,>=2.13.0->spacy) (2.4.0)\r\n",
      "Requirement already satisfied: certifi>=2017.4.17 in /usr/local/lib/python3.11/dist-packages (from requests<3.0.0,>=2.13.0->spacy) (2025.4.26)\r\n",
      "Requirement already satisfied: blis<1.3.0,>=1.2.0 in /usr/local/lib/python3.11/dist-packages (from thinc<8.4.0,>=8.3.4->spacy) (1.2.1)\r\n",
      "Requirement already satisfied: confection<1.0.0,>=0.0.1 in /usr/local/lib/python3.11/dist-packages (from thinc<8.4.0,>=8.3.4->spacy) (0.1.5)\r\n",
      "Requirement already satisfied: click>=8.0.0 in /usr/local/lib/python3.11/dist-packages (from typer<1.0.0,>=0.3.0->spacy) (8.1.8)\r\n",
      "Requirement already satisfied: shellingham>=1.3.0 in /usr/local/lib/python3.11/dist-packages (from typer<1.0.0,>=0.3.0->spacy) (1.5.4)\r\n",
      "Requirement already satisfied: rich>=10.11.0 in /usr/local/lib/python3.11/dist-packages (from typer<1.0.0,>=0.3.0->spacy) (14.0.0)\r\n",
      "Requirement already satisfied: cloudpathlib<1.0.0,>=0.7.0 in /usr/local/lib/python3.11/dist-packages (from weasel<0.5.0,>=0.1.0->spacy) (0.21.0)\r\n",
      "Requirement already satisfied: smart-open<8.0.0,>=5.2.1 in /usr/local/lib/python3.11/dist-packages (from weasel<0.5.0,>=0.1.0->spacy) (7.1.0)\r\n",
      "Requirement already satisfied: MarkupSafe>=2.0 in /usr/local/lib/python3.11/dist-packages (from jinja2->spacy) (3.0.2)\r\n",
      "Requirement already satisfied: marisa-trie>=1.1.0 in /usr/local/lib/python3.11/dist-packages (from language-data>=1.2->langcodes<4.0.0,>=3.2.0->spacy) (1.2.1)\r\n",
      "Requirement already satisfied: markdown-it-py>=2.2.0 in /usr/local/lib/python3.11/dist-packages (from rich>=10.11.0->typer<1.0.0,>=0.3.0->spacy) (3.0.0)\r\n",
      "Requirement already satisfied: pygments<3.0.0,>=2.13.0 in /usr/local/lib/python3.11/dist-packages (from rich>=10.11.0->typer<1.0.0,>=0.3.0->spacy) (2.19.1)\r\n",
      "Requirement already satisfied: wrapt in /usr/local/lib/python3.11/dist-packages (from smart-open<8.0.0,>=5.2.1->weasel<0.5.0,>=0.1.0->spacy) (1.17.2)\r\n",
      "Requirement already satisfied: intel-openmp<2026,>=2024 in /usr/local/lib/python3.11/dist-packages (from mkl->numpy>=1.19.0->spacy) (2024.2.0)\r\n",
      "Requirement already satisfied: tbb==2022.* in /usr/local/lib/python3.11/dist-packages (from mkl->numpy>=1.19.0->spacy) (2022.1.0)\r\n",
      "Requirement already satisfied: tcmlib==1.* in /usr/local/lib/python3.11/dist-packages (from tbb==2022.*->mkl->numpy>=1.19.0->spacy) (1.3.0)\r\n",
      "Requirement already satisfied: intel-cmplr-lib-rt in /usr/local/lib/python3.11/dist-packages (from mkl_umath->numpy>=1.19.0->spacy) (2024.2.0)\r\n",
      "Requirement already satisfied: intel-cmplr-lib-ur==2024.2.0 in /usr/local/lib/python3.11/dist-packages (from intel-openmp<2026,>=2024->mkl->numpy>=1.19.0->spacy) (2024.2.0)\r\n",
      "Requirement already satisfied: mdurl~=0.1 in /usr/local/lib/python3.11/dist-packages (from markdown-it-py>=2.2.0->rich>=10.11.0->typer<1.0.0,>=0.3.0->spacy) (0.1.2)\r\n"
     ]
    }
   ],
   "source": [
    "!pip install spacy\n",
    "import spacy\n",
    "from spacy.lang.en.stop_words import STOP_WORDS\n",
    "import numpy as np \n",
    "import pandas as pd \n",
    "from sklearn.model_selection import train_test_split\n",
    "from sklearn.feature_extraction.text import CountVectorizer, TfidfVectorizer\n",
    "from sklearn.ensemble import RandomForestClassifier\n",
    "from sklearn.neighbors import KNeighborsClassifier\n",
    "from sklearn.pipeline import Pipeline\n",
    "from sklearn.metrics import classification_report, confusion_matrix\n",
    "from xgboost import XGBClassifier\n",
    "import joblib\n",
    "from sklearn.metrics import accuracy_score"
   ]
  },
  {
   "cell_type": "code",
   "execution_count": 2,
   "id": "f73f1cce",
   "metadata": {
    "execution": {
     "iopub.execute_input": "2025-05-26T17:37:50.037658Z",
     "iopub.status.busy": "2025-05-26T17:37:50.037036Z",
     "iopub.status.idle": "2025-05-26T17:37:50.502860Z",
     "shell.execute_reply": "2025-05-26T17:37:50.501869Z"
    },
    "papermill": {
     "duration": 0.473051,
     "end_time": "2025-05-26T17:37:50.504735",
     "exception": false,
     "start_time": "2025-05-26T17:37:50.031684",
     "status": "completed"
    },
    "tags": []
   },
   "outputs": [
    {
     "data": {
      "text/html": [
       "<div>\n",
       "<style scoped>\n",
       "    .dataframe tbody tr th:only-of-type {\n",
       "        vertical-align: middle;\n",
       "    }\n",
       "\n",
       "    .dataframe tbody tr th {\n",
       "        vertical-align: top;\n",
       "    }\n",
       "\n",
       "    .dataframe thead th {\n",
       "        text-align: right;\n",
       "    }\n",
       "</style>\n",
       "<table border=\"1\" class=\"dataframe\">\n",
       "  <thead>\n",
       "    <tr style=\"text-align: right;\">\n",
       "      <th></th>\n",
       "      <th>id</th>\n",
       "      <th>topic</th>\n",
       "      <th>sentiment</th>\n",
       "      <th>text</th>\n",
       "    </tr>\n",
       "  </thead>\n",
       "  <tbody>\n",
       "    <tr>\n",
       "      <th>0</th>\n",
       "      <td>2401</td>\n",
       "      <td>Borderlands</td>\n",
       "      <td>Positive</td>\n",
       "      <td>im getting on borderlands and i will murder yo...</td>\n",
       "    </tr>\n",
       "    <tr>\n",
       "      <th>1</th>\n",
       "      <td>2401</td>\n",
       "      <td>Borderlands</td>\n",
       "      <td>Positive</td>\n",
       "      <td>I am coming to the borders and I will kill you...</td>\n",
       "    </tr>\n",
       "    <tr>\n",
       "      <th>2</th>\n",
       "      <td>2401</td>\n",
       "      <td>Borderlands</td>\n",
       "      <td>Positive</td>\n",
       "      <td>im getting on borderlands and i will kill you ...</td>\n",
       "    </tr>\n",
       "    <tr>\n",
       "      <th>3</th>\n",
       "      <td>2401</td>\n",
       "      <td>Borderlands</td>\n",
       "      <td>Positive</td>\n",
       "      <td>im coming on borderlands and i will murder you...</td>\n",
       "    </tr>\n",
       "    <tr>\n",
       "      <th>4</th>\n",
       "      <td>2401</td>\n",
       "      <td>Borderlands</td>\n",
       "      <td>Positive</td>\n",
       "      <td>im getting on borderlands 2 and i will murder ...</td>\n",
       "    </tr>\n",
       "  </tbody>\n",
       "</table>\n",
       "</div>"
      ],
      "text/plain": [
       "     id        topic sentiment  \\\n",
       "0  2401  Borderlands  Positive   \n",
       "1  2401  Borderlands  Positive   \n",
       "2  2401  Borderlands  Positive   \n",
       "3  2401  Borderlands  Positive   \n",
       "4  2401  Borderlands  Positive   \n",
       "\n",
       "                                                text  \n",
       "0  im getting on borderlands and i will murder yo...  \n",
       "1  I am coming to the borders and I will kill you...  \n",
       "2  im getting on borderlands and i will kill you ...  \n",
       "3  im coming on borderlands and i will murder you...  \n",
       "4  im getting on borderlands 2 and i will murder ...  "
      ]
     },
     "execution_count": 2,
     "metadata": {},
     "output_type": "execute_result"
    }
   ],
   "source": [
    "column_names = [\"id\", \"topic\", \"sentiment\", \"text\"]\n",
    "df = pd.read_csv(\"/kaggle/input/twitter-entity-sentiment-analysis/twitter_training.csv\", names=column_names)\n",
    "df.head()"
   ]
  },
  {
   "cell_type": "code",
   "execution_count": 3,
   "id": "5402343d",
   "metadata": {
    "execution": {
     "iopub.execute_input": "2025-05-26T17:37:50.514832Z",
     "iopub.status.busy": "2025-05-26T17:37:50.514390Z",
     "iopub.status.idle": "2025-05-26T17:37:50.520466Z",
     "shell.execute_reply": "2025-05-26T17:37:50.519579Z"
    },
    "papermill": {
     "duration": 0.012795,
     "end_time": "2025-05-26T17:37:50.521983",
     "exception": false,
     "start_time": "2025-05-26T17:37:50.509188",
     "status": "completed"
    },
    "tags": []
   },
   "outputs": [
    {
     "data": {
      "text/plain": [
       "(74682, 4)"
      ]
     },
     "execution_count": 3,
     "metadata": {},
     "output_type": "execute_result"
    }
   ],
   "source": [
    "df.shape"
   ]
  },
  {
   "cell_type": "code",
   "execution_count": 4,
   "id": "d8c82697",
   "metadata": {
    "execution": {
     "iopub.execute_input": "2025-05-26T17:37:50.532786Z",
     "iopub.status.busy": "2025-05-26T17:37:50.531925Z",
     "iopub.status.idle": "2025-05-26T17:37:50.553097Z",
     "shell.execute_reply": "2025-05-26T17:37:50.551956Z"
    },
    "papermill": {
     "duration": 0.028126,
     "end_time": "2025-05-26T17:37:50.554662",
     "exception": false,
     "start_time": "2025-05-26T17:37:50.526536",
     "status": "completed"
    },
    "tags": []
   },
   "outputs": [
    {
     "data": {
      "text/html": [
       "<div>\n",
       "<style scoped>\n",
       "    .dataframe tbody tr th:only-of-type {\n",
       "        vertical-align: middle;\n",
       "    }\n",
       "\n",
       "    .dataframe tbody tr th {\n",
       "        vertical-align: top;\n",
       "    }\n",
       "\n",
       "    .dataframe thead th {\n",
       "        text-align: right;\n",
       "    }\n",
       "</style>\n",
       "<table border=\"1\" class=\"dataframe\">\n",
       "  <thead>\n",
       "    <tr style=\"text-align: right;\">\n",
       "      <th></th>\n",
       "      <th>sentiment</th>\n",
       "      <th>text</th>\n",
       "    </tr>\n",
       "  </thead>\n",
       "  <tbody>\n",
       "    <tr>\n",
       "      <th>0</th>\n",
       "      <td>Positive</td>\n",
       "      <td>im getting on borderlands and i will murder yo...</td>\n",
       "    </tr>\n",
       "    <tr>\n",
       "      <th>1</th>\n",
       "      <td>Positive</td>\n",
       "      <td>I am coming to the borders and I will kill you...</td>\n",
       "    </tr>\n",
       "    <tr>\n",
       "      <th>2</th>\n",
       "      <td>Positive</td>\n",
       "      <td>im getting on borderlands and i will kill you ...</td>\n",
       "    </tr>\n",
       "    <tr>\n",
       "      <th>3</th>\n",
       "      <td>Positive</td>\n",
       "      <td>im coming on borderlands and i will murder you...</td>\n",
       "    </tr>\n",
       "    <tr>\n",
       "      <th>4</th>\n",
       "      <td>Positive</td>\n",
       "      <td>im getting on borderlands 2 and i will murder ...</td>\n",
       "    </tr>\n",
       "  </tbody>\n",
       "</table>\n",
       "</div>"
      ],
      "text/plain": [
       "  sentiment                                               text\n",
       "0  Positive  im getting on borderlands and i will murder yo...\n",
       "1  Positive  I am coming to the borders and I will kill you...\n",
       "2  Positive  im getting on borderlands and i will kill you ...\n",
       "3  Positive  im coming on borderlands and i will murder you...\n",
       "4  Positive  im getting on borderlands 2 and i will murder ..."
      ]
     },
     "execution_count": 4,
     "metadata": {},
     "output_type": "execute_result"
    }
   ],
   "source": [
    "df = df[[\"sentiment\", \"text\"]]\n",
    "df.head()"
   ]
  },
  {
   "cell_type": "code",
   "execution_count": 5,
   "id": "fb557016",
   "metadata": {
    "execution": {
     "iopub.execute_input": "2025-05-26T17:37:50.565004Z",
     "iopub.status.busy": "2025-05-26T17:37:50.564713Z",
     "iopub.status.idle": "2025-05-26T17:37:50.580628Z",
     "shell.execute_reply": "2025-05-26T17:37:50.579710Z"
    },
    "papermill": {
     "duration": 0.023057,
     "end_time": "2025-05-26T17:37:50.582308",
     "exception": false,
     "start_time": "2025-05-26T17:37:50.559251",
     "status": "completed"
    },
    "tags": []
   },
   "outputs": [
    {
     "data": {
      "text/plain": [
       "sentiment\n",
       "Negative      22542\n",
       "Positive      20832\n",
       "Neutral       18318\n",
       "Irrelevant    12990\n",
       "Name: count, dtype: int64"
      ]
     },
     "execution_count": 5,
     "metadata": {},
     "output_type": "execute_result"
    }
   ],
   "source": [
    "df.sentiment.value_counts()"
   ]
  },
  {
   "cell_type": "code",
   "execution_count": 6,
   "id": "e9d848d9",
   "metadata": {
    "execution": {
     "iopub.execute_input": "2025-05-26T17:37:50.593205Z",
     "iopub.status.busy": "2025-05-26T17:37:50.592816Z",
     "iopub.status.idle": "2025-05-26T17:37:50.613789Z",
     "shell.execute_reply": "2025-05-26T17:37:50.612787Z"
    },
    "papermill": {
     "duration": 0.028435,
     "end_time": "2025-05-26T17:37:50.615404",
     "exception": false,
     "start_time": "2025-05-26T17:37:50.586969",
     "status": "completed"
    },
    "tags": []
   },
   "outputs": [
    {
     "data": {
      "text/plain": [
       "sentiment\n",
       "Negative    22542\n",
       "Positive    20832\n",
       "Neutral     18318\n",
       "Name: count, dtype: int64"
      ]
     },
     "execution_count": 6,
     "metadata": {},
     "output_type": "execute_result"
    }
   ],
   "source": [
    "# We are not interested in \"Irrelevant\" sentiment. So we're going to drop thease rows\n",
    "df = df[df.sentiment != \"Irrelevant\"]\n",
    "df.sentiment.value_counts()"
   ]
  },
  {
   "cell_type": "code",
   "execution_count": 7,
   "id": "f3943e01",
   "metadata": {
    "execution": {
     "iopub.execute_input": "2025-05-26T17:37:50.626042Z",
     "iopub.status.busy": "2025-05-26T17:37:50.625728Z",
     "iopub.status.idle": "2025-05-26T17:37:50.642935Z",
     "shell.execute_reply": "2025-05-26T17:37:50.641966Z"
    },
    "papermill": {
     "duration": 0.024224,
     "end_time": "2025-05-26T17:37:50.644477",
     "exception": false,
     "start_time": "2025-05-26T17:37:50.620253",
     "status": "completed"
    },
    "tags": []
   },
   "outputs": [
    {
     "data": {
      "text/plain": [
       "sentiment      0\n",
       "text         571\n",
       "dtype: int64"
      ]
     },
     "execution_count": 7,
     "metadata": {},
     "output_type": "execute_result"
    }
   ],
   "source": [
    "df.isna().sum()"
   ]
  },
  {
   "cell_type": "code",
   "execution_count": 8,
   "id": "1044df38",
   "metadata": {
    "execution": {
     "iopub.execute_input": "2025-05-26T17:37:50.655607Z",
     "iopub.status.busy": "2025-05-26T17:37:50.655255Z",
     "iopub.status.idle": "2025-05-26T17:37:50.689236Z",
     "shell.execute_reply": "2025-05-26T17:37:50.687947Z"
    },
    "papermill": {
     "duration": 0.041542,
     "end_time": "2025-05-26T17:37:50.690979",
     "exception": false,
     "start_time": "2025-05-26T17:37:50.649437",
     "status": "completed"
    },
    "tags": []
   },
   "outputs": [
    {
     "data": {
      "text/plain": [
       "sentiment    0\n",
       "text         0\n",
       "dtype: int64"
      ]
     },
     "execution_count": 8,
     "metadata": {},
     "output_type": "execute_result"
    }
   ],
   "source": [
    "df = df.copy()\n",
    "df.dropna(inplace=True)\n",
    "df.isna().sum()"
   ]
  },
  {
   "cell_type": "code",
   "execution_count": 9,
   "id": "cf5ea108",
   "metadata": {
    "execution": {
     "iopub.execute_input": "2025-05-26T17:37:50.702685Z",
     "iopub.status.busy": "2025-05-26T17:37:50.702364Z",
     "iopub.status.idle": "2025-05-26T17:37:50.718704Z",
     "shell.execute_reply": "2025-05-26T17:37:50.717674Z"
    },
    "papermill": {
     "duration": 0.024025,
     "end_time": "2025-05-26T17:37:50.720262",
     "exception": false,
     "start_time": "2025-05-26T17:37:50.696237",
     "status": "completed"
    },
    "tags": []
   },
   "outputs": [
    {
     "data": {
      "text/html": [
       "<div>\n",
       "<style scoped>\n",
       "    .dataframe tbody tr th:only-of-type {\n",
       "        vertical-align: middle;\n",
       "    }\n",
       "\n",
       "    .dataframe tbody tr th {\n",
       "        vertical-align: top;\n",
       "    }\n",
       "\n",
       "    .dataframe thead th {\n",
       "        text-align: right;\n",
       "    }\n",
       "</style>\n",
       "<table border=\"1\" class=\"dataframe\">\n",
       "  <thead>\n",
       "    <tr style=\"text-align: right;\">\n",
       "      <th></th>\n",
       "      <th>sentiment</th>\n",
       "      <th>text</th>\n",
       "      <th>sentiment_num</th>\n",
       "    </tr>\n",
       "  </thead>\n",
       "  <tbody>\n",
       "    <tr>\n",
       "      <th>0</th>\n",
       "      <td>Positive</td>\n",
       "      <td>im getting on borderlands and i will murder yo...</td>\n",
       "      <td>2</td>\n",
       "    </tr>\n",
       "    <tr>\n",
       "      <th>1</th>\n",
       "      <td>Positive</td>\n",
       "      <td>I am coming to the borders and I will kill you...</td>\n",
       "      <td>2</td>\n",
       "    </tr>\n",
       "    <tr>\n",
       "      <th>2</th>\n",
       "      <td>Positive</td>\n",
       "      <td>im getting on borderlands and i will kill you ...</td>\n",
       "      <td>2</td>\n",
       "    </tr>\n",
       "    <tr>\n",
       "      <th>3</th>\n",
       "      <td>Positive</td>\n",
       "      <td>im coming on borderlands and i will murder you...</td>\n",
       "      <td>2</td>\n",
       "    </tr>\n",
       "    <tr>\n",
       "      <th>4</th>\n",
       "      <td>Positive</td>\n",
       "      <td>im getting on borderlands 2 and i will murder ...</td>\n",
       "      <td>2</td>\n",
       "    </tr>\n",
       "  </tbody>\n",
       "</table>\n",
       "</div>"
      ],
      "text/plain": [
       "  sentiment                                               text  sentiment_num\n",
       "0  Positive  im getting on borderlands and i will murder yo...              2\n",
       "1  Positive  I am coming to the borders and I will kill you...              2\n",
       "2  Positive  im getting on borderlands and i will kill you ...              2\n",
       "3  Positive  im coming on borderlands and i will murder you...              2\n",
       "4  Positive  im getting on borderlands 2 and i will murder ...              2"
      ]
     },
     "execution_count": 9,
     "metadata": {},
     "output_type": "execute_result"
    }
   ],
   "source": [
    "sentiment_numbers = {\"Neutral\": 0, \"Negative\": 1, \"Positive\": 2}\n",
    "\n",
    "df[\"sentiment_num\"] = df.sentiment.map(sentiment_numbers)\n",
    "df.head()"
   ]
  },
  {
   "cell_type": "code",
   "execution_count": 10,
   "id": "c94d6551",
   "metadata": {
    "execution": {
     "iopub.execute_input": "2025-05-26T17:37:50.731931Z",
     "iopub.status.busy": "2025-05-26T17:37:50.731613Z",
     "iopub.status.idle": "2025-05-26T17:48:32.380653Z",
     "shell.execute_reply": "2025-05-26T17:48:32.379613Z"
    },
    "papermill": {
     "duration": 641.662417,
     "end_time": "2025-05-26T17:48:32.387926",
     "exception": false,
     "start_time": "2025-05-26T17:37:50.725509",
     "status": "completed"
    },
    "tags": []
   },
   "outputs": [
    {
     "name": "stdout",
     "output_type": "stream",
     "text": [
      "Collecting en-core-web-md==3.8.0\r\n",
      "  Downloading https://github.com/explosion/spacy-models/releases/download/en_core_web_md-3.8.0/en_core_web_md-3.8.0-py3-none-any.whl (33.5 MB)\r\n",
      "\u001b[2K     \u001b[90m━━━━━━━━━━━━━━━━━━━━━━━━━━━━━━━━━━━━━━━━\u001b[0m \u001b[32m33.5/33.5 MB\u001b[0m \u001b[31m46.1 MB/s\u001b[0m eta \u001b[36m0:00:00\u001b[0m\r\n",
      "\u001b[?25hInstalling collected packages: en-core-web-md\r\n",
      "Successfully installed en-core-web-md-3.8.0\r\n",
      "\u001b[38;5;2m✔ Download and installation successful\u001b[0m\r\n",
      "You can now load the package via spacy.load('en_core_web_md')\r\n",
      "\u001b[38;5;3m⚠ Restart to reload dependencies\u001b[0m\r\n",
      "If you are in a Jupyter or Colab notebook, you may need to restart Python in\r\n",
      "order to load all the package's dependencies. You can do this by selecting the\r\n",
      "'Restart kernel' or 'Restart runtime' option.\r\n"
     ]
    },
    {
     "data": {
      "text/html": [
       "<div>\n",
       "<style scoped>\n",
       "    .dataframe tbody tr th:only-of-type {\n",
       "        vertical-align: middle;\n",
       "    }\n",
       "\n",
       "    .dataframe tbody tr th {\n",
       "        vertical-align: top;\n",
       "    }\n",
       "\n",
       "    .dataframe thead th {\n",
       "        text-align: right;\n",
       "    }\n",
       "</style>\n",
       "<table border=\"1\" class=\"dataframe\">\n",
       "  <thead>\n",
       "    <tr style=\"text-align: right;\">\n",
       "      <th></th>\n",
       "      <th>sentiment</th>\n",
       "      <th>text</th>\n",
       "      <th>sentiment_num</th>\n",
       "      <th>text_preprocessed</th>\n",
       "    </tr>\n",
       "  </thead>\n",
       "  <tbody>\n",
       "    <tr>\n",
       "      <th>0</th>\n",
       "      <td>Positive</td>\n",
       "      <td>im getting on borderlands and i will murder yo...</td>\n",
       "      <td>2</td>\n",
       "      <td>m get borderland murder</td>\n",
       "    </tr>\n",
       "    <tr>\n",
       "      <th>1</th>\n",
       "      <td>Positive</td>\n",
       "      <td>I am coming to the borders and I will kill you...</td>\n",
       "      <td>2</td>\n",
       "      <td>come border kill</td>\n",
       "    </tr>\n",
       "    <tr>\n",
       "      <th>2</th>\n",
       "      <td>Positive</td>\n",
       "      <td>im getting on borderlands and i will kill you ...</td>\n",
       "      <td>2</td>\n",
       "      <td>m get borderland kill</td>\n",
       "    </tr>\n",
       "    <tr>\n",
       "      <th>3</th>\n",
       "      <td>Positive</td>\n",
       "      <td>im coming on borderlands and i will murder you...</td>\n",
       "      <td>2</td>\n",
       "      <td>m come borderland murder</td>\n",
       "    </tr>\n",
       "    <tr>\n",
       "      <th>4</th>\n",
       "      <td>Positive</td>\n",
       "      <td>im getting on borderlands 2 and i will murder ...</td>\n",
       "      <td>2</td>\n",
       "      <td>m get borderland 2 murder</td>\n",
       "    </tr>\n",
       "  </tbody>\n",
       "</table>\n",
       "</div>"
      ],
      "text/plain": [
       "  sentiment                                               text  sentiment_num  \\\n",
       "0  Positive  im getting on borderlands and i will murder yo...              2   \n",
       "1  Positive  I am coming to the borders and I will kill you...              2   \n",
       "2  Positive  im getting on borderlands and i will kill you ...              2   \n",
       "3  Positive  im coming on borderlands and i will murder you...              2   \n",
       "4  Positive  im getting on borderlands 2 and i will murder ...              2   \n",
       "\n",
       "           text_preprocessed  \n",
       "0    m get borderland murder  \n",
       "1           come border kill  \n",
       "2      m get borderland kill  \n",
       "3   m come borderland murder  \n",
       "4  m get borderland 2 murder  "
      ]
     },
     "execution_count": 10,
     "metadata": {},
     "output_type": "execute_result"
    }
   ],
   "source": [
    "!python -m spacy download en_core_web_md\n",
    "# remove stop words \n",
    "nlp = spacy.load(\"en_core_web_md\")\n",
    "\n",
    "def preprocess(text):\n",
    "  doc = nlp(text)\n",
    "  tokens = []\n",
    "  for token in doc:\n",
    "    if token.is_stop or token.is_punct:\n",
    "      continue\n",
    "    else:\n",
    "      tokens.append(token.lemma_)\n",
    "  return \" \".join(tokens)\n",
    "df[\"text_preprocessed\"] = df.text.apply(preprocess)\n",
    "df.head()"
   ]
  },
  {
   "cell_type": "code",
   "execution_count": 11,
   "id": "69d61acd",
   "metadata": {
    "execution": {
     "iopub.execute_input": "2025-05-26T17:48:32.402131Z",
     "iopub.status.busy": "2025-05-26T17:48:32.401775Z",
     "iopub.status.idle": "2025-05-26T17:48:32.413232Z",
     "shell.execute_reply": "2025-05-26T17:48:32.411922Z"
    },
    "papermill": {
     "duration": 0.021011,
     "end_time": "2025-05-26T17:48:32.415014",
     "exception": false,
     "start_time": "2025-05-26T17:48:32.394003",
     "status": "completed"
    },
    "tags": []
   },
   "outputs": [
    {
     "data": {
      "text/plain": [
       "sentiment\n",
       "Negative    22358\n",
       "Positive    20655\n",
       "Neutral     18108\n",
       "Name: count, dtype: int64"
      ]
     },
     "execution_count": 11,
     "metadata": {},
     "output_type": "execute_result"
    }
   ],
   "source": [
    "df.sentiment.value_counts()"
   ]
  },
  {
   "cell_type": "code",
   "execution_count": 12,
   "id": "8b56e191",
   "metadata": {
    "execution": {
     "iopub.execute_input": "2025-05-26T17:48:32.428637Z",
     "iopub.status.busy": "2025-05-26T17:48:32.428314Z",
     "iopub.status.idle": "2025-05-26T17:48:32.467954Z",
     "shell.execute_reply": "2025-05-26T17:48:32.466935Z"
    },
    "papermill": {
     "duration": 0.048426,
     "end_time": "2025-05-26T17:48:32.469619",
     "exception": false,
     "start_time": "2025-05-26T17:48:32.421193",
     "status": "completed"
    },
    "tags": []
   },
   "outputs": [
    {
     "name": "stdout",
     "output_type": "stream",
     "text": [
      "(48896,) (48896,)\n",
      "(12225,) (12225,)\n"
     ]
    }
   ],
   "source": [
    "#splitting the dataset\n",
    "X_train, X_test, y_train, y_test = train_test_split(df.text, df.sentiment_num, test_size=0.2, random_state=42, stratify=df.sentiment_num)\n",
    "print(X_train.shape, y_train.shape)\n",
    "print(X_test.shape, y_test.shape)"
   ]
  },
  {
   "cell_type": "code",
   "execution_count": 13,
   "id": "79a066b3",
   "metadata": {
    "execution": {
     "iopub.execute_input": "2025-05-26T17:48:32.483503Z",
     "iopub.status.busy": "2025-05-26T17:48:32.483027Z",
     "iopub.status.idle": "2025-05-26T17:48:32.521002Z",
     "shell.execute_reply": "2025-05-26T17:48:32.520129Z"
    },
    "papermill": {
     "duration": 0.046684,
     "end_time": "2025-05-26T17:48:32.522608",
     "exception": false,
     "start_time": "2025-05-26T17:48:32.475924",
     "status": "completed"
    },
    "tags": []
   },
   "outputs": [
    {
     "data": {
      "text/html": [
       "<div>\n",
       "<style scoped>\n",
       "    .dataframe tbody tr th:only-of-type {\n",
       "        vertical-align: middle;\n",
       "    }\n",
       "\n",
       "    .dataframe tbody tr th {\n",
       "        vertical-align: top;\n",
       "    }\n",
       "\n",
       "    .dataframe thead th {\n",
       "        text-align: right;\n",
       "    }\n",
       "</style>\n",
       "<table border=\"1\" class=\"dataframe\">\n",
       "  <thead>\n",
       "    <tr style=\"text-align: right;\">\n",
       "      <th></th>\n",
       "      <th>id</th>\n",
       "      <th>platform</th>\n",
       "      <th>sentiment</th>\n",
       "      <th>text</th>\n",
       "    </tr>\n",
       "  </thead>\n",
       "  <tbody>\n",
       "    <tr>\n",
       "      <th>0</th>\n",
       "      <td>3364</td>\n",
       "      <td>Facebook</td>\n",
       "      <td>Irrelevant</td>\n",
       "      <td>I mentioned on Facebook that I was struggling ...</td>\n",
       "    </tr>\n",
       "    <tr>\n",
       "      <th>1</th>\n",
       "      <td>352</td>\n",
       "      <td>Amazon</td>\n",
       "      <td>Neutral</td>\n",
       "      <td>BBC News - Amazon boss Jeff Bezos rejects clai...</td>\n",
       "    </tr>\n",
       "    <tr>\n",
       "      <th>2</th>\n",
       "      <td>8312</td>\n",
       "      <td>Microsoft</td>\n",
       "      <td>Negative</td>\n",
       "      <td>@Microsoft Why do I pay for WORD when it funct...</td>\n",
       "    </tr>\n",
       "    <tr>\n",
       "      <th>3</th>\n",
       "      <td>4371</td>\n",
       "      <td>CS-GO</td>\n",
       "      <td>Negative</td>\n",
       "      <td>CSGO matchmaking is so full of closet hacking,...</td>\n",
       "    </tr>\n",
       "    <tr>\n",
       "      <th>4</th>\n",
       "      <td>4433</td>\n",
       "      <td>Google</td>\n",
       "      <td>Neutral</td>\n",
       "      <td>Now the President is slapping Americans in the...</td>\n",
       "    </tr>\n",
       "  </tbody>\n",
       "</table>\n",
       "</div>"
      ],
      "text/plain": [
       "     id   platform   sentiment  \\\n",
       "0  3364   Facebook  Irrelevant   \n",
       "1   352     Amazon     Neutral   \n",
       "2  8312  Microsoft    Negative   \n",
       "3  4371      CS-GO    Negative   \n",
       "4  4433     Google     Neutral   \n",
       "\n",
       "                                                text  \n",
       "0  I mentioned on Facebook that I was struggling ...  \n",
       "1  BBC News - Amazon boss Jeff Bezos rejects clai...  \n",
       "2  @Microsoft Why do I pay for WORD when it funct...  \n",
       "3  CSGO matchmaking is so full of closet hacking,...  \n",
       "4  Now the President is slapping Americans in the...  "
      ]
     },
     "execution_count": 13,
     "metadata": {},
     "output_type": "execute_result"
    }
   ],
   "source": [
    "column_names = [\"id\", \"platform\", \"sentiment\", \"text\"]\n",
    "df_val = pd.read_csv(\"/kaggle/input/twitter-entity-sentiment-analysis/twitter_validation.csv\", names=column_names)\n",
    "df_val.head()"
   ]
  },
  {
   "cell_type": "code",
   "execution_count": 14,
   "id": "306156d8",
   "metadata": {
    "execution": {
     "iopub.execute_input": "2025-05-26T17:48:32.536883Z",
     "iopub.status.busy": "2025-05-26T17:48:32.536532Z",
     "iopub.status.idle": "2025-05-26T17:48:32.544879Z",
     "shell.execute_reply": "2025-05-26T17:48:32.543478Z"
    },
    "papermill": {
     "duration": 0.017336,
     "end_time": "2025-05-26T17:48:32.546602",
     "exception": false,
     "start_time": "2025-05-26T17:48:32.529266",
     "status": "completed"
    },
    "tags": []
   },
   "outputs": [
    {
     "data": {
      "text/plain": [
       "id           0\n",
       "platform     0\n",
       "sentiment    0\n",
       "text         0\n",
       "dtype: int64"
      ]
     },
     "execution_count": 14,
     "metadata": {},
     "output_type": "execute_result"
    }
   ],
   "source": [
    "df_val.isna().sum()"
   ]
  },
  {
   "cell_type": "code",
   "execution_count": 15,
   "id": "95e410c2",
   "metadata": {
    "execution": {
     "iopub.execute_input": "2025-05-26T17:48:32.560912Z",
     "iopub.status.busy": "2025-05-26T17:48:32.560597Z",
     "iopub.status.idle": "2025-05-26T17:48:32.570428Z",
     "shell.execute_reply": "2025-05-26T17:48:32.569577Z"
    },
    "papermill": {
     "duration": 0.018622,
     "end_time": "2025-05-26T17:48:32.571885",
     "exception": false,
     "start_time": "2025-05-26T17:48:32.553263",
     "status": "completed"
    },
    "tags": []
   },
   "outputs": [
    {
     "data": {
      "text/html": [
       "<div>\n",
       "<style scoped>\n",
       "    .dataframe tbody tr th:only-of-type {\n",
       "        vertical-align: middle;\n",
       "    }\n",
       "\n",
       "    .dataframe tbody tr th {\n",
       "        vertical-align: top;\n",
       "    }\n",
       "\n",
       "    .dataframe thead th {\n",
       "        text-align: right;\n",
       "    }\n",
       "</style>\n",
       "<table border=\"1\" class=\"dataframe\">\n",
       "  <thead>\n",
       "    <tr style=\"text-align: right;\">\n",
       "      <th></th>\n",
       "      <th>sentiment</th>\n",
       "      <th>text</th>\n",
       "    </tr>\n",
       "  </thead>\n",
       "  <tbody>\n",
       "    <tr>\n",
       "      <th>0</th>\n",
       "      <td>Irrelevant</td>\n",
       "      <td>I mentioned on Facebook that I was struggling ...</td>\n",
       "    </tr>\n",
       "    <tr>\n",
       "      <th>1</th>\n",
       "      <td>Neutral</td>\n",
       "      <td>BBC News - Amazon boss Jeff Bezos rejects clai...</td>\n",
       "    </tr>\n",
       "    <tr>\n",
       "      <th>2</th>\n",
       "      <td>Negative</td>\n",
       "      <td>@Microsoft Why do I pay for WORD when it funct...</td>\n",
       "    </tr>\n",
       "    <tr>\n",
       "      <th>3</th>\n",
       "      <td>Negative</td>\n",
       "      <td>CSGO matchmaking is so full of closet hacking,...</td>\n",
       "    </tr>\n",
       "    <tr>\n",
       "      <th>4</th>\n",
       "      <td>Neutral</td>\n",
       "      <td>Now the President is slapping Americans in the...</td>\n",
       "    </tr>\n",
       "  </tbody>\n",
       "</table>\n",
       "</div>"
      ],
      "text/plain": [
       "    sentiment                                               text\n",
       "0  Irrelevant  I mentioned on Facebook that I was struggling ...\n",
       "1     Neutral  BBC News - Amazon boss Jeff Bezos rejects clai...\n",
       "2    Negative  @Microsoft Why do I pay for WORD when it funct...\n",
       "3    Negative  CSGO matchmaking is so full of closet hacking,...\n",
       "4     Neutral  Now the President is slapping Americans in the..."
      ]
     },
     "execution_count": 15,
     "metadata": {},
     "output_type": "execute_result"
    }
   ],
   "source": [
    "df_val = df_val[[\"sentiment\", \"text\"]]\n",
    "df_val.head()"
   ]
  },
  {
   "cell_type": "code",
   "execution_count": 16,
   "id": "5fafbac4",
   "metadata": {
    "execution": {
     "iopub.execute_input": "2025-05-26T17:48:32.586743Z",
     "iopub.status.busy": "2025-05-26T17:48:32.586381Z",
     "iopub.status.idle": "2025-05-26T17:48:32.594489Z",
     "shell.execute_reply": "2025-05-26T17:48:32.593480Z"
    },
    "papermill": {
     "duration": 0.017543,
     "end_time": "2025-05-26T17:48:32.596162",
     "exception": false,
     "start_time": "2025-05-26T17:48:32.578619",
     "status": "completed"
    },
    "tags": []
   },
   "outputs": [
    {
     "data": {
      "text/plain": [
       "sentiment\n",
       "Neutral       285\n",
       "Positive      277\n",
       "Negative      266\n",
       "Irrelevant    172\n",
       "Name: count, dtype: int64"
      ]
     },
     "execution_count": 16,
     "metadata": {},
     "output_type": "execute_result"
    }
   ],
   "source": [
    "df_val.sentiment.value_counts()"
   ]
  },
  {
   "cell_type": "code",
   "execution_count": 17,
   "id": "b35d59dc",
   "metadata": {
    "execution": {
     "iopub.execute_input": "2025-05-26T17:48:32.611809Z",
     "iopub.status.busy": "2025-05-26T17:48:32.611358Z",
     "iopub.status.idle": "2025-05-26T17:48:32.621372Z",
     "shell.execute_reply": "2025-05-26T17:48:32.620425Z"
    },
    "papermill": {
     "duration": 0.019519,
     "end_time": "2025-05-26T17:48:32.623025",
     "exception": false,
     "start_time": "2025-05-26T17:48:32.603506",
     "status": "completed"
    },
    "tags": []
   },
   "outputs": [
    {
     "data": {
      "text/plain": [
       "sentiment\n",
       "Neutral     285\n",
       "Positive    277\n",
       "Negative    266\n",
       "Name: count, dtype: int64"
      ]
     },
     "execution_count": 17,
     "metadata": {},
     "output_type": "execute_result"
    }
   ],
   "source": [
    "df_val = df_val[df_val.sentiment != \"Irrelevant\"]\n",
    "df_val.sentiment.value_counts()"
   ]
  },
  {
   "cell_type": "code",
   "execution_count": 18,
   "id": "4699f278",
   "metadata": {
    "execution": {
     "iopub.execute_input": "2025-05-26T17:48:32.637963Z",
     "iopub.status.busy": "2025-05-26T17:48:32.637634Z",
     "iopub.status.idle": "2025-05-26T17:48:32.647980Z",
     "shell.execute_reply": "2025-05-26T17:48:32.647060Z"
    },
    "papermill": {
     "duration": 0.01941,
     "end_time": "2025-05-26T17:48:32.649433",
     "exception": false,
     "start_time": "2025-05-26T17:48:32.630023",
     "status": "completed"
    },
    "tags": []
   },
   "outputs": [
    {
     "data": {
      "text/html": [
       "<div>\n",
       "<style scoped>\n",
       "    .dataframe tbody tr th:only-of-type {\n",
       "        vertical-align: middle;\n",
       "    }\n",
       "\n",
       "    .dataframe tbody tr th {\n",
       "        vertical-align: top;\n",
       "    }\n",
       "\n",
       "    .dataframe thead th {\n",
       "        text-align: right;\n",
       "    }\n",
       "</style>\n",
       "<table border=\"1\" class=\"dataframe\">\n",
       "  <thead>\n",
       "    <tr style=\"text-align: right;\">\n",
       "      <th></th>\n",
       "      <th>sentiment</th>\n",
       "      <th>text</th>\n",
       "      <th>sentiment_num</th>\n",
       "    </tr>\n",
       "  </thead>\n",
       "  <tbody>\n",
       "    <tr>\n",
       "      <th>1</th>\n",
       "      <td>Neutral</td>\n",
       "      <td>BBC News - Amazon boss Jeff Bezos rejects clai...</td>\n",
       "      <td>0</td>\n",
       "    </tr>\n",
       "    <tr>\n",
       "      <th>2</th>\n",
       "      <td>Negative</td>\n",
       "      <td>@Microsoft Why do I pay for WORD when it funct...</td>\n",
       "      <td>1</td>\n",
       "    </tr>\n",
       "    <tr>\n",
       "      <th>3</th>\n",
       "      <td>Negative</td>\n",
       "      <td>CSGO matchmaking is so full of closet hacking,...</td>\n",
       "      <td>1</td>\n",
       "    </tr>\n",
       "    <tr>\n",
       "      <th>4</th>\n",
       "      <td>Neutral</td>\n",
       "      <td>Now the President is slapping Americans in the...</td>\n",
       "      <td>0</td>\n",
       "    </tr>\n",
       "    <tr>\n",
       "      <th>5</th>\n",
       "      <td>Negative</td>\n",
       "      <td>Hi @EAHelp I’ve had Madeleine McCann in my cel...</td>\n",
       "      <td>1</td>\n",
       "    </tr>\n",
       "  </tbody>\n",
       "</table>\n",
       "</div>"
      ],
      "text/plain": [
       "  sentiment                                               text  sentiment_num\n",
       "1   Neutral  BBC News - Amazon boss Jeff Bezos rejects clai...              0\n",
       "2  Negative  @Microsoft Why do I pay for WORD when it funct...              1\n",
       "3  Negative  CSGO matchmaking is so full of closet hacking,...              1\n",
       "4   Neutral  Now the President is slapping Americans in the...              0\n",
       "5  Negative  Hi @EAHelp I’ve had Madeleine McCann in my cel...              1"
      ]
     },
     "execution_count": 18,
     "metadata": {},
     "output_type": "execute_result"
    }
   ],
   "source": [
    "sentiment_numbers = {\"Neutral\": 0, \"Negative\": 1, \"Positive\": 2}\n",
    "\n",
    "df_val[\"sentiment_num\"] = df_val.sentiment.map(sentiment_numbers)\n",
    "df_val.head()"
   ]
  },
  {
   "cell_type": "code",
   "execution_count": 19,
   "id": "df9621b1",
   "metadata": {
    "execution": {
     "iopub.execute_input": "2025-05-26T17:48:32.664926Z",
     "iopub.status.busy": "2025-05-26T17:48:32.664599Z",
     "iopub.status.idle": "2025-05-26T17:48:32.670298Z",
     "shell.execute_reply": "2025-05-26T17:48:32.669139Z"
    },
    "papermill": {
     "duration": 0.01521,
     "end_time": "2025-05-26T17:48:32.671871",
     "exception": false,
     "start_time": "2025-05-26T17:48:32.656661",
     "status": "completed"
    },
    "tags": []
   },
   "outputs": [
    {
     "name": "stdout",
     "output_type": "stream",
     "text": [
      "(828,)\n",
      "(828,)\n"
     ]
    }
   ],
   "source": [
    "X_val = df_val[\"text\"]\n",
    "y_val = df_val[\"sentiment_num\"]\n",
    "print(X_val.shape)\n",
    "print(y_val.shape)"
   ]
  },
  {
   "cell_type": "code",
   "execution_count": 20,
   "id": "5b7fac21",
   "metadata": {
    "execution": {
     "iopub.execute_input": "2025-05-26T17:48:32.688150Z",
     "iopub.status.busy": "2025-05-26T17:48:32.687795Z",
     "iopub.status.idle": "2025-05-26T18:15:50.362020Z",
     "shell.execute_reply": "2025-05-26T18:15:50.360474Z"
    },
    "papermill": {
     "duration": 1637.684693,
     "end_time": "2025-05-26T18:15:50.363947",
     "exception": false,
     "start_time": "2025-05-26T17:48:32.679254",
     "status": "completed"
    },
    "tags": []
   },
   "outputs": [
    {
     "name": "stdout",
     "output_type": "stream",
     "text": [
      "\n",
      "Classification Report for RandomForestClassifier with CountVectorizer:\n",
      "              precision    recall  f1-score   support\n",
      "\n",
      "           0       0.97      0.97      0.97       285\n",
      "           1       0.97      0.98      0.97       266\n",
      "           2       0.99      0.97      0.98       277\n",
      "\n",
      "    accuracy                           0.97       828\n",
      "   macro avg       0.97      0.97      0.97       828\n",
      "weighted avg       0.97      0.97      0.97       828\n",
      "\n",
      "\n",
      "Classification Report for RandomForestClassifier with CountVectorizer:\n",
      "              precision    recall  f1-score   support\n",
      "\n",
      "           0       0.96      0.98      0.97       285\n",
      "           1       0.99      0.98      0.98       266\n",
      "           2       0.98      0.97      0.98       277\n",
      "\n",
      "    accuracy                           0.98       828\n",
      "   macro avg       0.98      0.98      0.98       828\n",
      "weighted avg       0.98      0.98      0.98       828\n",
      "\n",
      "\n",
      "Classification Report for RandomForestClassifier with TfidfVectorizer:\n",
      "              precision    recall  f1-score   support\n",
      "\n",
      "           0       0.96      0.98      0.97       285\n",
      "           1       0.97      0.98      0.97       266\n",
      "           2       0.99      0.96      0.97       277\n",
      "\n",
      "    accuracy                           0.97       828\n",
      "   macro avg       0.97      0.97      0.97       828\n",
      "weighted avg       0.97      0.97      0.97       828\n",
      "\n",
      "\n",
      "Classification Report for XGBClassifier with CountVectorizer:\n",
      "              precision    recall  f1-score   support\n",
      "\n",
      "           0       0.87      0.71      0.78       285\n",
      "           1       0.78      0.88      0.82       266\n",
      "           2       0.79      0.85      0.82       277\n",
      "\n",
      "    accuracy                           0.81       828\n",
      "   macro avg       0.81      0.81      0.81       828\n",
      "weighted avg       0.81      0.81      0.81       828\n",
      "\n",
      "\n",
      "Classification Report for XGBClassifier with CountVectorizer:\n",
      "              precision    recall  f1-score   support\n",
      "\n",
      "           0       0.86      0.71      0.78       285\n",
      "           1       0.77      0.87      0.82       266\n",
      "           2       0.80      0.85      0.83       277\n",
      "\n",
      "    accuracy                           0.81       828\n",
      "   macro avg       0.81      0.81      0.81       828\n",
      "weighted avg       0.81      0.81      0.81       828\n",
      "\n",
      "\n",
      "Classification Report for XGBClassifier with TfidfVectorizer:\n",
      "              precision    recall  f1-score   support\n",
      "\n",
      "           0       0.86      0.75      0.80       285\n",
      "           1       0.76      0.88      0.81       266\n",
      "           2       0.84      0.83      0.83       277\n",
      "\n",
      "    accuracy                           0.82       828\n",
      "   macro avg       0.82      0.82      0.82       828\n",
      "weighted avg       0.82      0.82      0.82       828\n",
      "\n",
      "\n",
      "Classification Report for KNeighborsClassifier with CountVectorizer:\n",
      "              precision    recall  f1-score   support\n",
      "\n",
      "           0       0.95      0.96      0.96       285\n",
      "           1       0.96      0.95      0.96       266\n",
      "           2       0.97      0.97      0.97       277\n",
      "\n",
      "    accuracy                           0.96       828\n",
      "   macro avg       0.96      0.96      0.96       828\n",
      "weighted avg       0.96      0.96      0.96       828\n",
      "\n",
      "\n",
      "Classification Report for KNeighborsClassifier with CountVectorizer:\n",
      "              precision    recall  f1-score   support\n",
      "\n",
      "           0       0.92      0.97      0.95       285\n",
      "           1       0.95      0.93      0.94       266\n",
      "           2       0.96      0.93      0.95       277\n",
      "\n",
      "    accuracy                           0.94       828\n",
      "   macro avg       0.95      0.94      0.94       828\n",
      "weighted avg       0.95      0.94      0.94       828\n",
      "\n",
      "\n",
      "Classification Report for KNeighborsClassifier with TfidfVectorizer:\n",
      "              precision    recall  f1-score   support\n",
      "\n",
      "           0       1.00      0.96      0.98       285\n",
      "           1       0.92      0.99      0.95       266\n",
      "           2       0.99      0.95      0.97       277\n",
      "\n",
      "    accuracy                           0.97       828\n",
      "   macro avg       0.97      0.97      0.97       828\n",
      "weighted avg       0.97      0.97      0.97       828\n",
      "\n"
     ]
    }
   ],
   "source": [
    "from sklearn.metrics import classification_report, confusion_matrix\n",
    "from sklearn.ensemble import RandomForestClassifier\n",
    "from sklearn.feature_extraction.text import CountVectorizer, TfidfVectorizer\n",
    "from sklearn.pipeline import Pipeline\n",
    "from sklearn.neighbors import KNeighborsClassifier\n",
    "from xgboost import XGBClassifier\n",
    "import seaborn as sns\n",
    "import matplotlib.pyplot as plt\n",
    "\n",
    "# Assuming X_train, X_val, y_train, y_val are already defined from train_test_split\n",
    "\n",
    "# Define pipelines for Random Forest, XGBoost, and KNN with different vectorizers\n",
    "clf_1 = Pipeline([('vectorizer', CountVectorizer(analyzer='word', ngram_range=(1,1))),\n",
    "                  ('classifier', RandomForestClassifier())])\n",
    "clf_2 = Pipeline([('vectorizer', CountVectorizer(analyzer='word', ngram_range=(1,2))),\n",
    "                  ('classifier', RandomForestClassifier())])\n",
    "clf_3 = Pipeline([('vectorizer', TfidfVectorizer(analyzer='word', ngram_range=(1,1))),\n",
    "                  ('classifier', RandomForestClassifier())])\n",
    "\n",
    "xgboost_with_CountVectorizer11 = Pipeline([('vectorizer', CountVectorizer(analyzer='word', ngram_range=(1,1))),\n",
    "                                          ('classifier', XGBClassifier(use_label_encoder=False, eval_metric='mlogloss'))])\n",
    "xgboost_with_CountVectorizer12 = Pipeline([('vectorizer', CountVectorizer(analyzer='word', ngram_range=(1,2))),\n",
    "                                          ('classifier', XGBClassifier(use_label_encoder=False, eval_metric='mlogloss'))])\n",
    "xgboost_with_TfidfVectorizer = Pipeline([('vectorizer', TfidfVectorizer(analyzer='word', ngram_range=(1,1))),\n",
    "                                        ('classifier', XGBClassifier(use_label_encoder=False, eval_metric='mlogloss'))])\n",
    "\n",
    "knn_with_CountVectorizer11 = Pipeline([('vectorizer', CountVectorizer(analyzer='word', ngram_range=(1,1))),\n",
    "                                      ('classifier', KNeighborsClassifier())])\n",
    "knn_with_CountVectorizer12 = Pipeline([('vectorizer', CountVectorizer(analyzer='word', ngram_range=(1,2))),\n",
    "                                      ('classifier', KNeighborsClassifier())])\n",
    "knn_with_TfidfVectorizer = Pipeline([('vectorizer', TfidfVectorizer(analyzer='word', ngram_range=(1,1))),\n",
    "                                    ('classifier', KNeighborsClassifier())])\n",
    "\n",
    "# List of all models\n",
    "models = [\n",
    "    clf_1, clf_2, clf_3,\n",
    "    xgboost_with_CountVectorizer11, xgboost_with_CountVectorizer12, xgboost_with_TfidfVectorizer,\n",
    "    knn_with_CountVectorizer11, knn_with_CountVectorizer12, knn_with_TfidfVectorizer\n",
    "]\n",
    "\n",
    "# Train each model\n",
    "for model in models:\n",
    "    model.fit(X_train, y_train)\n",
    "\n",
    "import os\n",
    "\n",
    "# Directory to save plots and models\n",
    "os.makedirs(\"confusion_matrices\", exist_ok=True)\n",
    "os.makedirs(\"saved_models\", exist_ok=True)\n",
    "\n",
    "best_score = 0\n",
    "best_model = None\n",
    "best_model_name = \"\"\n",
    "best_y_pred = None\n",
    "\n",
    "for i, model in enumerate(models):\n",
    "    y_pred_val = model.predict(X_val)\n",
    "\n",
    "    # Get model names\n",
    "    classifier_name = model.named_steps['classifier'].__class__.__name__\n",
    "    vectorizer_name = model.named_steps['vectorizer'].__class__.__name__\n",
    "    \n",
    "    # Print classification report\n",
    "    print(f\"\\nClassification Report for {classifier_name} with {vectorizer_name}:\")\n",
    "    print(classification_report(y_val, y_pred_val))\n",
    "    \n",
    "    # Save confusion matrix plot\n",
    "    cm_val = confusion_matrix(y_val, y_pred_val)\n",
    "    sns.heatmap(cm_val, annot=True, fmt=\"d\", cmap=\"Blues\")\n",
    "    plt.title(f\"Confusion Matrix: {classifier_name} + {vectorizer_name}\")\n",
    "    \n",
    "    filename = f\"{i+1}_{classifier_name}_{vectorizer_name}.png\".replace(\" \", \"_\")\n",
    "    plt.savefig(os.path.join(\"confusion_matrices\", filename))\n",
    "    plt.close()\n",
    "    \n",
    "    # Compute accuracy or another metric\n",
    "    acc = accuracy_score(y_val, y_pred_val)\n",
    "\n",
    "    # Track best model\n",
    "    if acc > best_score:\n",
    "        best_score = acc\n",
    "        best_model = model\n",
    "        best_model_name = f\"{classifier_name}_{vectorizer_name}\"\n",
    "        best_y_pred = y_pred_val\n"
   ]
  },
  {
   "cell_type": "code",
   "execution_count": 21,
   "id": "b6ac0d76",
   "metadata": {
    "execution": {
     "iopub.execute_input": "2025-05-26T18:15:50.383437Z",
     "iopub.status.busy": "2025-05-26T18:15:50.382656Z",
     "iopub.status.idle": "2025-05-26T18:15:51.888813Z",
     "shell.execute_reply": "2025-05-26T18:15:51.887693Z"
    },
    "papermill": {
     "duration": 1.517237,
     "end_time": "2025-05-26T18:15:51.890405",
     "exception": false,
     "start_time": "2025-05-26T18:15:50.373168",
     "status": "completed"
    },
    "tags": []
   },
   "outputs": [
    {
     "name": "stdout",
     "output_type": "stream",
     "text": [
      "\n",
      "✅ Best model saved: saved_models/best_model_RandomForestClassifier_CountVectorizer.pkl (Accuracy: 0.9771)\n"
     ]
    }
   ],
   "source": [
    "# Save the best model\n",
    "model_path = os.path.join(\"saved_models\", f\"best_model_{best_model_name}.pkl\")\n",
    "joblib.dump(best_model, model_path)\n",
    "\n",
    "print(f\"\\n✅ Best model saved: {model_path} (Accuracy: {best_score:.4f})\")"
   ]
  },
  {
   "cell_type": "code",
   "execution_count": null,
   "id": "c0a309c8",
   "metadata": {
    "papermill": {
     "duration": 0.007683,
     "end_time": "2025-05-26T18:15:51.906123",
     "exception": false,
     "start_time": "2025-05-26T18:15:51.898440",
     "status": "completed"
    },
    "tags": []
   },
   "outputs": [],
   "source": []
  },
  {
   "cell_type": "code",
   "execution_count": null,
   "id": "6b2e3f21",
   "metadata": {
    "papermill": {
     "duration": 0.007667,
     "end_time": "2025-05-26T18:15:51.921570",
     "exception": false,
     "start_time": "2025-05-26T18:15:51.913903",
     "status": "completed"
    },
    "tags": []
   },
   "outputs": [],
   "source": []
  }
 ],
 "metadata": {
  "kaggle": {
   "accelerator": "none",
   "dataSources": [
    {
     "datasetId": 1520310,
     "sourceId": 2510329,
     "sourceType": "datasetVersion"
    }
   ],
   "dockerImageVersionId": 31040,
   "isGpuEnabled": false,
   "isInternetEnabled": true,
   "language": "python",
   "sourceType": "notebook"
  },
  "kernelspec": {
   "display_name": "Python 3",
   "language": "python",
   "name": "python3"
  },
  "language_info": {
   "codemirror_mode": {
    "name": "ipython",
    "version": 3
   },
   "file_extension": ".py",
   "mimetype": "text/x-python",
   "name": "python",
   "nbconvert_exporter": "python",
   "pygments_lexer": "ipython3",
   "version": "3.11.11"
  },
  "papermill": {
   "default_parameters": {},
   "duration": 2309.336877,
   "end_time": "2025-05-26T18:15:54.534547",
   "environment_variables": {},
   "exception": null,
   "input_path": "__notebook__.ipynb",
   "output_path": "__notebook__.ipynb",
   "parameters": {},
   "start_time": "2025-05-26T17:37:25.197670",
   "version": "2.6.0"
  }
 },
 "nbformat": 4,
 "nbformat_minor": 5
}
