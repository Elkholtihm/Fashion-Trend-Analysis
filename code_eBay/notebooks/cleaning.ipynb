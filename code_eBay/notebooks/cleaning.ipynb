{
 "cells": [
  {
   "cell_type": "code",
   "execution_count": null,
   "id": "b30c26bd",
   "metadata": {},
   "outputs": [],
   "source": []
  },
  {
   "cell_type": "code",
   "execution_count": null,
   "id": "01965c17",
   "metadata": {},
   "outputs": [],
   "source": []
  },
  {
   "cell_type": "markdown",
   "id": "2bcb6b9c",
   "metadata": {},
   "source": [
    "### title handling : extract product name for each title (later)"
   ]
  },
  {
   "cell_type": "code",
   "execution_count": 1,
   "id": "03dc11ae",
   "metadata": {},
   "outputs": [],
   "source": [
    "import os\n",
    "import json\n",
    "import sys\n",
    "import os\n",
    "\n",
    "# Add the parent directory to sys.path to allow imports from src\n",
    "sys.path.append(os.path.abspath(\"../\"))\n",
    "\n",
    "# Now import the function\n",
    "from src.cleaner import extract_price\n",
    "from src.cleaner import clean_location\n",
    "from src.cleaner import categorize_delivery\n",
    "from src.cleaner import extract_feedback_count,update_item"
   ]
  },
  {
   "cell_type": "code",
   "execution_count": 2,
   "id": "54392eba",
   "metadata": {},
   "outputs": [
    {
     "data": {
      "text/plain": [
       "'D:\\\\BDIA\\\\semestre 4\\\\Analyse du web\\\\final project\\\\data\\\\collected_data'"
      ]
     },
     "execution_count": 2,
     "metadata": {},
     "output_type": "execute_result"
    }
   ],
   "source": [
    "os.chdir(r'D:\\BDIA\\semestre 4\\Analyse du web\\final project\\data\\collected_data')\n",
    "os.getcwd()"
   ]
  },
  {
   "cell_type": "code",
   "execution_count": 3,
   "id": "816911ca",
   "metadata": {},
   "outputs": [
    {
     "data": {
      "text/plain": [
       "['500_results.json',\n",
       " 'ebay_clothing_data.json',\n",
       " 'market_product.json',\n",
       " 'men_results.json',\n",
       " 'women_results.json']"
      ]
     },
     "execution_count": 3,
     "metadata": {},
     "output_type": "execute_result"
    }
   ],
   "source": [
    "os.listdir()"
   ]
  },
  {
   "cell_type": "code",
   "execution_count": 4,
   "id": "0bb7ed60",
   "metadata": {},
   "outputs": [
    {
     "name": "stdout",
     "output_type": "stream",
     "text": [
      "['Spider Punk T-shirt - Funny Web-Slinging Style! Unisex Printed Design']\n"
     ]
    }
   ],
   "source": [
    "import spacy\n",
    "\n",
    "nlp = spacy.load(\"en_core_web_sm\")  # small English model\n",
    "\n",
    "def extract_product_names(title):\n",
    "    doc = nlp(title)\n",
    "    # Extract entities labeled as PRODUCT or ORG (sometimes product names get labeled as ORG)\n",
    "    products = [ent.text for ent in doc.ents if ent.label_ in (\"PRODUCT\", \"ORG\")]\n",
    "    return products if products else [title]  # fallback to full title if none found\n",
    "\n",
    "# Example:\n",
    "title = \"Spider Punk T-shirt - Funny Web-Slinging Style! Unisex Printed Design\"\n",
    "print(extract_product_names(title))\n"
   ]
  },
  {
   "cell_type": "markdown",
   "id": "4d070e1a",
   "metadata": {},
   "source": [
    "#### Price normalizing:make the price in one Unit"
   ]
  },
  {
   "cell_type": "code",
   "execution_count": 5,
   "id": "0cdc4227",
   "metadata": {},
   "outputs": [],
   "source": [
    "with open('market_product.json','r',encoding='utf-8') as f:\n",
    "    data=json.load(f)"
   ]
  },
  {
   "cell_type": "code",
   "execution_count": 6,
   "id": "ff56ae6c",
   "metadata": {},
   "outputs": [],
   "source": [
    "prices=list(map(lambda x:extract_price(x['price']),data))"
   ]
  },
  {
   "cell_type": "code",
   "execution_count": 7,
   "id": "53a0233b",
   "metadata": {},
   "outputs": [],
   "source": [
    "data_with_price_handled = list(map(lambda item_price: {**item_price[0], 'price': item_price[1]}, zip(data, prices)))"
   ]
  },
  {
   "cell_type": "markdown",
   "id": "0e7554b7",
   "metadata": {},
   "source": [
    "### location handling "
   ]
  },
  {
   "cell_type": "code",
   "execution_count": 8,
   "id": "7a90ce1c",
   "metadata": {},
   "outputs": [],
   "source": [
    "data_l_p_h = [{**item, 'location': clean_location(item['location'])} for item in data_with_price_handled ]"
   ]
  },
  {
   "cell_type": "markdown",
   "id": "74a5f4f8",
   "metadata": {},
   "source": [
    "### delivery manipulation"
   ]
  },
  {
   "cell_type": "code",
   "execution_count": 11,
   "id": "cd2ff2bd",
   "metadata": {},
   "outputs": [
    {
     "name": "stdout",
     "output_type": "stream",
     "text": [
      "{'Paid Delivery': 938, 'Free Delivery': 53, 'Other Delivery': 9}\n"
     ]
    }
   ],
   "source": [
    "from collections import defaultdict\n",
    "\n",
    "counts = defaultdict(int)\n",
    "\n",
    "for item in data:\n",
    "    category = categorize_delivery(item['delivery_price'])\n",
    "    item['delivery_category'] = category\n",
    "    counts[category] += 1\n",
    "\n",
    "# Convert defaultdict to regular dict if you want\n",
    "counts = dict(counts)\n",
    "print(counts)\n"
   ]
  },
  {
   "cell_type": "code",
   "execution_count": 13,
   "id": "857d4b00",
   "metadata": {},
   "outputs": [],
   "source": [
    "# we will add label named delivery category in our data :\n",
    "\n",
    "data_l_p_d=[ {**item,'delivery_category':categorize_delivery(item['delivery_price'])} for item in data_l_p_h]"
   ]
  },
  {
   "cell_type": "code",
   "execution_count": 18,
   "id": "5a32203e",
   "metadata": {},
   "outputs": [],
   "source": [
    "#now we will put delivery price as value \n",
    "def clean_delivery_price(delivery_price, delivery_category):\n",
    "    if delivery_category == \"Free Delivery\":\n",
    "        return 0\n",
    "    elif delivery_category == \"Paid Delivery\":\n",
    "        import re\n",
    "        # Extract the first number in the string\n",
    "        match = re.search(r'[\\d,.]+', delivery_price)\n",
    "        if match:\n",
    "            num_str = match.group().replace(',', '')\n",
    "            try:\n",
    "                return float(num_str)\n",
    "            except ValueError:\n",
    "                return None\n",
    "        else:\n",
    "            return None\n",
    "    else:\n",
    "        # category is 'other' or unknown\n",
    "        return None"
   ]
  },
  {
   "cell_type": "code",
   "execution_count": 19,
   "id": "20527835",
   "metadata": {},
   "outputs": [],
   "source": [
    "for item in data_l_p_d:\n",
    "    item['clean_delivery_price'] = clean_delivery_price(item['delivery_price'], item['delivery_category'])\n"
   ]
  },
  {
   "cell_type": "code",
   "execution_count": 23,
   "id": "156d9388",
   "metadata": {},
   "outputs": [
    {
     "name": "stdout",
     "output_type": "stream",
     "text": [
      "{'Buy It Now'}\n"
     ]
    }
   ],
   "source": [
    "# delivery type data didn't present any extra information so we can't rely on it \n",
    "unique_categories = {item['delivery_type'] for item in data_l_p_d if 'delivery_type' in item}\n",
    "print(unique_categories)"
   ]
  },
  {
   "cell_type": "code",
   "execution_count": 24,
   "id": "8e61d403",
   "metadata": {},
   "outputs": [],
   "source": [
    "for item in data_l_p_d:\n",
    "    item.pop('delivery_type', None)"
   ]
  },
  {
   "cell_type": "code",
   "execution_count": 27,
   "id": "b5f58066",
   "metadata": {},
   "outputs": [
    {
     "data": {
      "text/plain": [
       "0"
      ]
     },
     "execution_count": 27,
     "metadata": {},
     "output_type": "execute_result"
    }
   ],
   "source": [
    "data_l_p_d[199].get('delivery_type',0)"
   ]
  },
  {
   "cell_type": "code",
   "execution_count": 28,
   "id": "25f01d49",
   "metadata": {},
   "outputs": [],
   "source": [
    "#the same thing with date var (each comment has its date no need to have an empty date in the data )\n",
    "for item in data_l_p_d:\n",
    "    item.pop('date', None)"
   ]
  },
  {
   "cell_type": "code",
   "execution_count": 29,
   "id": "5d8f8464",
   "metadata": {},
   "outputs": [
    {
     "data": {
      "text/plain": [
       "'no date key'"
      ]
     },
     "execution_count": 29,
     "metadata": {},
     "output_type": "execute_result"
    }
   ],
   "source": [
    "data_l_p_d[199].get('date','no date key')"
   ]
  },
  {
   "cell_type": "code",
   "execution_count": 33,
   "id": "37330c91",
   "metadata": {},
   "outputs": [],
   "source": [
    "with open(r'D:\\BDIA\\semestre 4\\Analyse du web\\final project\\data\\processed_data\\market_data_processed_v1.json','w',encoding='utf-8') as f:\n",
    "    json.dump(data_l_p_d,f,indent=4)"
   ]
  },
  {
   "cell_type": "code",
   "execution_count": 24,
   "id": "5d5f0dfe",
   "metadata": {},
   "outputs": [
    {
     "data": {
      "text/plain": [
       "'D:\\\\BDIA\\\\semestre 4\\\\Analyse du web\\\\final project\\\\data\\\\processed_data'"
      ]
     },
     "execution_count": 24,
     "metadata": {},
     "output_type": "execute_result"
    }
   ],
   "source": [
    "os.chdir(r'D:\\BDIA\\semestre 4\\Analyse du web\\final project\\data\\processed_data')\n",
    "os.getcwd()"
   ]
  },
  {
   "cell_type": "code",
   "execution_count": 25,
   "id": "4d81dfc2",
   "metadata": {},
   "outputs": [
    {
     "data": {
      "text/plain": [
       "['file.txt',\n",
       " 'market_data_processed_v1.json',\n",
       " 'market_data_processed_v2.json',\n",
       " 'market_data_processed_v3.json']"
      ]
     },
     "execution_count": 25,
     "metadata": {},
     "output_type": "execute_result"
    }
   ],
   "source": [
    "os.listdir()"
   ]
  },
  {
   "cell_type": "code",
   "execution_count": 34,
   "id": "d17011a1",
   "metadata": {},
   "outputs": [],
   "source": [
    "with open(r'market_data_processed_v3.json','r',encoding='utf-8') as f:\n",
    "    data=json.load(f)"
   ]
  },
  {
   "cell_type": "code",
   "execution_count": 28,
   "id": "d29ad054",
   "metadata": {},
   "outputs": [],
   "source": [
    "new_data= list(map(update_item, data))"
   ]
  },
  {
   "cell_type": "code",
   "execution_count": 29,
   "id": "431d693d",
   "metadata": {},
   "outputs": [
    {
     "data": {
      "text/plain": [
       "1000"
      ]
     },
     "execution_count": 29,
     "metadata": {},
     "output_type": "execute_result"
    }
   ],
   "source": [
    "len(new_data)"
   ]
  },
  {
   "cell_type": "code",
   "execution_count": 35,
   "id": "72ea0ddd",
   "metadata": {},
   "outputs": [
    {
     "data": {
      "text/plain": [
       "{'title': \"Adidas Samba OG White Black | Men's Shoes IT | New | Shipping Included\",\n",
       " 'price': 90.26,\n",
       " 'delivery_price': 'Free International Shipping',\n",
       " 'location': 'Netherlands',\n",
       " 'product_link': 'https://www.ebay.com/itm/286570480562?_skw=women&hash=item42b8ee83b2:g:YDAAAOSwLoRoJcxp&itmprp=enc%3AAQAKAAAA4FkggFvd1GGDu0w3yXCmi1coLWAbTAB1xC%2F1mSzwP4MbbO2WfNuVMvo0y8E%2Fm8ALM0%2BFDLSwmoRcAe0MYwyEI67Lc8IwEccAVu%2FeKnWPJZpc6Uqe0eGZaRMfc%2FHAhMlKt7wkQa0C8Kzie2lkJjDubUGnrXdP6e%2BB7HryZPA6lj0rKLDSwPVMOprZH0uMEDu6bGvNk1AZ9TjU1tnbexutkzIhMwIv7rNZyX%2BNIapN94UEA9RsKXz6S6RxCTuhs%2Ff0k8wFlm4dx4rmZ7tA1qamUUkHvcY7k6XLhD5SyB0DligL%7Ctkp%3ABk9SR4Dj-9reZQ',\n",
       " 'image_link': 'https://i.ebayimg.com/images/g/YDAAAOSwLoRoJcxp/s-l140.jpg',\n",
       " 'sex': 'F',\n",
       " 'event_breath1': 'People are checking this out. 3 have added this to their watchlist.',\n",
       " 'event_breath2': 'Popular item. 5 have already sold.',\n",
       " 'feedback': [],\n",
       " 'delivery_category': 'Free Delivery',\n",
       " 'clean_delivery_price': 0,\n",
       " 'feedback_count': 0,\n",
       " 'category': 'Shoes'}"
      ]
     },
     "execution_count": 35,
     "metadata": {},
     "output_type": "execute_result"
    }
   ],
   "source": [
    "data[601]"
   ]
  },
  {
   "cell_type": "code",
   "execution_count": 37,
   "id": "d2c8ee57",
   "metadata": {},
   "outputs": [
    {
     "data": {
      "text/plain": [
       "'D:\\\\BDIA\\\\semestre 4\\\\Analyse du web\\\\final project\\\\data\\\\collected_data'"
      ]
     },
     "execution_count": 37,
     "metadata": {},
     "output_type": "execute_result"
    }
   ],
   "source": [
    "os.chdir(r'D:\\BDIA\\semestre 4\\Analyse du web\\final project\\data\\collected_data')\n",
    "os.getcwd()"
   ]
  },
  {
   "cell_type": "code",
   "execution_count": 55,
   "id": "cb8aa427",
   "metadata": {},
   "outputs": [],
   "source": [
    "with open(r'D:\\BDIA\\semestre 4\\Analyse du web\\final project\\data\\processed_data\\market_data_processed_v3.json','r',encoding='utf-8') as f:\n",
    "    data=json.load(f)\n",
    "with open('Item Categorization1.json','r',encoding='utf-8') as f:\n",
    "    c1=json.load(f)\n",
    "with open('Item Categorization2.json','r',encoding='utf-8') as f:\n",
    "    c2=json.load(f)\n",
    "\n",
    "with open('Item Categorization3.json','r',encoding='utf-8') as f:\n",
    "    c3=json.load(f)\n",
    "with open('Item Categorization4.json','r',encoding='utf-8') as f:\n",
    "    c4=json.load(f)"
   ]
  },
  {
   "cell_type": "code",
   "execution_count": 56,
   "id": "758dd281",
   "metadata": {},
   "outputs": [
    {
     "data": {
      "text/plain": [
       "(250, 250, 250, 250, 1000)"
      ]
     },
     "execution_count": 56,
     "metadata": {},
     "output_type": "execute_result"
    }
   ],
   "source": [
    "len(c1),len(c2),len(c3),len(c4),len(data)"
   ]
  },
  {
   "cell_type": "code",
   "execution_count": 59,
   "id": "296817d5",
   "metadata": {},
   "outputs": [
    {
     "data": {
      "text/plain": [
       "1000"
      ]
     },
     "execution_count": 59,
     "metadata": {},
     "output_type": "execute_result"
    }
   ],
   "source": [
    "new_data=c1+c2+c3+c4\n",
    "len(new_data)"
   ]
  },
  {
   "cell_type": "code",
   "execution_count": 60,
   "id": "b7500a0b",
   "metadata": {},
   "outputs": [
    {
     "data": {
      "text/plain": [
       "Counter({'T-shirt': 355,\n",
       "         'T-shirts': 212,\n",
       "         'Sunglasses (suggested)': 152,\n",
       "         'Shoes': 71,\n",
       "         'Cap': 27,\n",
       "         'Socks': 25,\n",
       "         'Scarf (suggested)': 24,\n",
       "         'Undergarments': 15,\n",
       "         'Jacket': 12,\n",
       "         'Underwear (suggested)': 10,\n",
       "         'Wallet (suggested)': 10,\n",
       "         'Pants (suggested)': 10,\n",
       "         'Belt (suggested)': 9,\n",
       "         'Shirt (suggested)': 8,\n",
       "         'Hoodie': 8,\n",
       "         'Backpack': 6,\n",
       "         'Poncho (suggested)': 6,\n",
       "         'Neckties': 5,\n",
       "         'Bag (suggested)': 5,\n",
       "         'Sandals': 3,\n",
       "         'Jeans (suggested)': 3,\n",
       "         'Miscellaneous (suggested)': 3,\n",
       "         'Necktie (suggested)': 2,\n",
       "         'Bathrobe (suggested)': 2,\n",
       "         'Tank Top (suggested)': 2,\n",
       "         'Swimsuit (suggested)': 2,\n",
       "         'Compression Sleeves (suggested)': 2,\n",
       "         'Sweatpants': 2,\n",
       "         'Sweatshirt (suggested)': 2,\n",
       "         'Shorts': 1,\n",
       "         'Jeans': 1,\n",
       "         'Caps': 1,\n",
       "         'Thermostat (suggested)': 1,\n",
       "         'Bag Strap (suggested)': 1,\n",
       "         'Clothing Accessory (suggested)': 1,\n",
       "         'Shapewear (suggested)': 1})"
      ]
     },
     "execution_count": 60,
     "metadata": {},
     "output_type": "execute_result"
    }
   ],
   "source": [
    "from collections import Counter\n",
    "count=Counter([item['category'] for item in new_data])\n",
    "count "
   ]
  },
  {
   "cell_type": "code",
   "execution_count": 62,
   "id": "794dfc5d",
   "metadata": {},
   "outputs": [
    {
     "data": {
      "text/plain": [
       "'D:\\\\BDIA\\\\semestre 4\\\\Analyse du web\\\\final project\\\\data\\\\processed_data'"
      ]
     },
     "execution_count": 62,
     "metadata": {},
     "output_type": "execute_result"
    }
   ],
   "source": [
    "os.chdir(r'D:\\BDIA\\semestre 4\\Analyse du web\\final project\\data\\processed_data')\n",
    "os.getcwd()"
   ]
  },
  {
   "cell_type": "code",
   "execution_count": 63,
   "id": "59e36e56",
   "metadata": {},
   "outputs": [],
   "source": [
    "with open('market_data_processed_v4_0.json','r',encoding='utf-8') as f:\n",
    "    data40=json.load(f)\n",
    "\n",
    "with open('market_data_processed_v4_1.json','r',encoding='utf-8') as f:\n",
    "    data41=json.load(f)"
   ]
  },
  {
   "cell_type": "code",
   "execution_count": 64,
   "id": "c6025cd2",
   "metadata": {},
   "outputs": [],
   "source": [
    "data40m0=[]\n",
    "for index in range(len(data40)):\n",
    "    data40[index][\"category\"]=new_data[index][\"category\"]\n",
    "    data40m0.append(data40[index])"
   ]
  },
  {
   "cell_type": "code",
   "execution_count": 68,
   "id": "51607666",
   "metadata": {},
   "outputs": [],
   "source": [
    "data40m1=[]\n",
    "for index in range(len(data41)):\n",
    "    data41[index][\"category\"]=new_data[index][\"category\"]\n",
    "    data40m1.append(data41[index])"
   ]
  },
  {
   "cell_type": "code",
   "execution_count": 70,
   "id": "0d502fc6",
   "metadata": {},
   "outputs": [],
   "source": [
    "with open('market_data_processed_v4_0m0.json','w',encoding='utf-8') as f:\n",
    "    json.dump(data40m0,f,ensure_ascii=False,indent=4)\n",
    "\n",
    "with open('market_data_processed_v4_1m0.json','w',encoding='utf-8') as f:\n",
    "    json.dump(data40m1,f,ensure_ascii=False,indent=4)\n"
   ]
  },
  {
   "cell_type": "code",
   "execution_count": 71,
   "id": "8441f633",
   "metadata": {},
   "outputs": [
    {
     "data": {
      "text/plain": [
       "Counter({'T-shirt': 355,\n",
       "         'T-shirts': 212,\n",
       "         'Sunglasses (suggested)': 152,\n",
       "         'Shoes': 71,\n",
       "         'Cap': 27,\n",
       "         'Socks': 25,\n",
       "         'Scarf (suggested)': 24,\n",
       "         'Undergarments': 15,\n",
       "         'Jacket': 12,\n",
       "         'Underwear (suggested)': 10,\n",
       "         'Wallet (suggested)': 10,\n",
       "         'Pants (suggested)': 10,\n",
       "         'Belt (suggested)': 9,\n",
       "         'Shirt (suggested)': 8,\n",
       "         'Hoodie': 8,\n",
       "         'Backpack': 6,\n",
       "         'Poncho (suggested)': 6,\n",
       "         'Neckties': 5,\n",
       "         'Bag (suggested)': 5,\n",
       "         'Sandals': 3,\n",
       "         'Jeans (suggested)': 3,\n",
       "         'Miscellaneous (suggested)': 3,\n",
       "         'Necktie (suggested)': 2,\n",
       "         'Bathrobe (suggested)': 2,\n",
       "         'Tank Top (suggested)': 2,\n",
       "         'Swimsuit (suggested)': 2,\n",
       "         'Compression Sleeves (suggested)': 2,\n",
       "         'Sweatpants': 2,\n",
       "         'Sweatshirt (suggested)': 2,\n",
       "         'Shorts': 1,\n",
       "         'Jeans': 1,\n",
       "         'Caps': 1,\n",
       "         'Thermostat (suggested)': 1,\n",
       "         'Bag Strap (suggested)': 1,\n",
       "         'Clothing Accessory (suggested)': 1,\n",
       "         'Shapewear (suggested)': 1})"
      ]
     },
     "execution_count": 71,
     "metadata": {},
     "output_type": "execute_result"
    }
   ],
   "source": [
    "count=Counter([item['category'] for item in data40m0])\n",
    "count"
   ]
  },
  {
   "cell_type": "code",
   "execution_count": 72,
   "id": "f0b1b96a",
   "metadata": {},
   "outputs": [],
   "source": [
    "import pandas as pd"
   ]
  },
  {
   "cell_type": "code",
   "execution_count": 76,
   "id": "226cbfbf",
   "metadata": {},
   "outputs": [],
   "source": [
    "df1=pd.DataFrame(data40m1)\n",
    "df1.to_csv('market_data_processed_v4_1m0.csv',index=False,encoding='utf-8')\n",
    "df1.to_excel('market_data_processed_v4_1m0.xlsx',index=False)"
   ]
  },
  {
   "cell_type": "code",
   "execution_count": null,
   "id": "e8f9cf40",
   "metadata": {},
   "outputs": [
    {
     "data": {
      "text/plain": [
       "True"
      ]
     },
     "execution_count": 96,
     "metadata": {},
     "output_type": "execute_result"
    }
   ],
   "source": []
  },
  {
   "cell_type": "code",
   "execution_count": null,
   "id": "5fbd23ab",
   "metadata": {},
   "outputs": [],
   "source": []
  }
 ],
 "metadata": {
  "kernelspec": {
   "display_name": "Python 3",
   "language": "python",
   "name": "python3"
  },
  "language_info": {
   "codemirror_mode": {
    "name": "ipython",
    "version": 3
   },
   "file_extension": ".py",
   "mimetype": "text/x-python",
   "name": "python",
   "nbconvert_exporter": "python",
   "pygments_lexer": "ipython3",
   "version": "3.12.3"
  }
 },
 "nbformat": 4,
 "nbformat_minor": 5
}
