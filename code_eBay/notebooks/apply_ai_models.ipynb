{
 "cells": [
  {
   "cell_type": "code",
   "execution_count": 1,
   "id": "a25b251f",
   "metadata": {},
   "outputs": [],
   "source": [
    "import sys\n",
    "import os\n",
    "import json"
   ]
  },
  {
   "cell_type": "code",
   "execution_count": 2,
   "id": "8dcf974a",
   "metadata": {},
   "outputs": [],
   "source": [
    "sys.path.append(os.path.abspath(\"../\"))"
   ]
  },
  {
   "cell_type": "code",
   "execution_count": 3,
   "id": "a8076127",
   "metadata": {},
   "outputs": [
    {
     "name": "stderr",
     "output_type": "stream",
     "text": [
      "d:\\BDIA\\semestre 4\\Analyse du web\\final project\\webenv\\Lib\\site-packages\\tqdm\\auto.py:21: TqdmWarning: IProgress not found. Please update jupyter and ipywidgets. See https://ipywidgets.readthedocs.io/en/stable/user_install.html\n",
      "  from .autonotebook import tqdm as notebook_tqdm\n",
      "Device set to use cpu\n"
     ]
    }
   ],
   "source": [
    "from models.sentiment_analyser import average_sentiment\n",
    "from models.categorize import get_dominant_color"
   ]
  },
  {
   "cell_type": "code",
   "execution_count": 12,
   "id": "36d04f4d",
   "metadata": {},
   "outputs": [],
   "source": [
    "os.chdir(r'D:\\BDIA\\semestre 4\\Analyse du web\\final project\\data\\processed_data')"
   ]
  },
  {
   "cell_type": "code",
   "execution_count": 13,
   "id": "d3f57c23",
   "metadata": {},
   "outputs": [
    {
     "data": {
      "text/plain": [
       "['file.txt',\n",
       " 'market_data_processed_v1.json',\n",
       " 'market_data_processed_v2.json',\n",
       " 'market_data_processed_v3.json']"
      ]
     },
     "execution_count": 13,
     "metadata": {},
     "output_type": "execute_result"
    }
   ],
   "source": [
    "os.listdir()"
   ]
  },
  {
   "cell_type": "code",
   "execution_count": 14,
   "id": "f0bf1e4c",
   "metadata": {},
   "outputs": [],
   "source": [
    "with open('market_data_processed_v3.json','r',encoding='utf-8') as f:\n",
    "    data=json.load(f)"
   ]
  },
  {
   "cell_type": "code",
   "execution_count": 16,
   "id": "945486dd",
   "metadata": {},
   "outputs": [],
   "source": [
    "new_data=[{**item, 'average_sentiment': average_sentiment(item[\"feedback\"])} for item in data]"
   ]
  },
  {
   "cell_type": "code",
   "execution_count": 21,
   "id": "ca680141",
   "metadata": {},
   "outputs": [],
   "source": [
    "from collections import Counter"
   ]
  },
  {
   "cell_type": "code",
   "execution_count": 22,
   "id": "1a3c1748",
   "metadata": {},
   "outputs": [],
   "source": [
    "count=Counter(item['average_sentiment'] for item in new_data)"
   ]
  },
  {
   "cell_type": "code",
   "execution_count": 23,
   "id": "47bf51b5",
   "metadata": {},
   "outputs": [
    {
     "data": {
      "text/plain": [
       "Counter({1.0: 472,\n",
       "         0.94: 147,\n",
       "         0.875: 97,\n",
       "         0.75: 78,\n",
       "         0.81: 51,\n",
       "         0.69: 42,\n",
       "         0.625: 19,\n",
       "         0.56: 17,\n",
       "         0.0: 11,\n",
       "         0.665: 8,\n",
       "         0.855: 8,\n",
       "         0.5: 8,\n",
       "         0.6000000000000001: 5,\n",
       "         0.31000000000000005: 5,\n",
       "         0.19999999999999996: 4,\n",
       "         0.835: 4,\n",
       "         0.9300000000000002: 4,\n",
       "         0.7999999999999998: 4,\n",
       "         0.43999999999999995: 3,\n",
       "         0.7149999999999999: 3,\n",
       "         -0.5: 3,\n",
       "         0.8999999999999999: 2,\n",
       "         0.375: 2,\n",
       "         0.915: 1,\n",
       "         0.7000000000000002: 1,\n",
       "         -0.06000000000000005: 1})"
      ]
     },
     "execution_count": 23,
     "metadata": {},
     "output_type": "execute_result"
    }
   ],
   "source": [
    "count"
   ]
  },
  {
   "cell_type": "code",
   "execution_count": null,
   "id": "d9526228",
   "metadata": {},
   "outputs": [],
   "source": [
    "import copy\n",
    "\n",
    "\n",
    "new_data_copy=copy.deepcopy(new_data)"
   ]
  },
  {
   "cell_type": "code",
   "execution_count": 38,
   "id": "6148efc1",
   "metadata": {},
   "outputs": [],
   "source": [
    "keys_to_remove = [\"feedback\"]\n",
    "new_data_copy = [\n",
    "    {k: v for k, v in item.items() if k not in keys_to_remove}\n",
    "    for item in new_data_copy\n",
    "]"
   ]
  },
  {
   "cell_type": "code",
   "execution_count": 39,
   "id": "7cb442fc",
   "metadata": {},
   "outputs": [],
   "source": [
    "with open('market_data_processed_v4_0.json','w',encoding='utf-8') as f:\n",
    "    json.dump(new_data, f, indent=4)\n",
    "\n",
    "with open('market_data_processed_v4_1.json','w',encoding='utf-8') as f:\n",
    "    json.dump(new_data_copy, f, indent=4)"
   ]
  },
  {
   "cell_type": "code",
   "execution_count": 4,
   "id": "c1e3ea22",
   "metadata": {},
   "outputs": [],
   "source": [
    "os.chdir(r'D:\\BDIA\\semestre 4\\Analyse du web\\final project\\data\\collected_data\\images')"
   ]
  },
  {
   "cell_type": "code",
   "execution_count": 5,
   "id": "e9341bf6",
   "metadata": {},
   "outputs": [],
   "source": [
    "colors=[{image.split('.')[0]:get_dominant_color(image)} for image in os.listdir()]"
   ]
  },
  {
   "cell_type": "code",
   "execution_count": 6,
   "id": "c8a32e33",
   "metadata": {},
   "outputs": [],
   "source": [
    "from collections import ChainMap\n",
    "dict_colors=dict(ChainMap(*colors))\n"
   ]
  },
  {
   "cell_type": "code",
   "execution_count": 8,
   "id": "edc558e7",
   "metadata": {},
   "outputs": [
    {
     "data": {
      "text/plain": [
       "'gainsboro'"
      ]
     },
     "execution_count": 8,
     "metadata": {},
     "output_type": "execute_result"
    }
   ],
   "source": [
    "dict_colors['12']"
   ]
  },
  {
   "cell_type": "code",
   "execution_count": 9,
   "id": "83710f50",
   "metadata": {},
   "outputs": [],
   "source": [
    "os.chdir(r'D:\\BDIA\\semestre 4\\Analyse du web\\final project\\data\\processed_data')"
   ]
  },
  {
   "cell_type": "code",
   "execution_count": 10,
   "id": "9c529a9a",
   "metadata": {},
   "outputs": [],
   "source": [
    "with open('market_data_processed_v4_0.json','r',encoding='utf-8') as f:\n",
    "    data40=json.load(f)\n",
    "with open('market_data_processed_v4_1.json','r',encoding='utf-8') as f:\n",
    "    data41=json.load(f)"
   ]
  },
  {
   "cell_type": "code",
   "execution_count": 11,
   "id": "a4eeac60",
   "metadata": {},
   "outputs": [],
   "source": [
    "\n",
    "new_data40=[{**item, 'product_look_like_color': dict_colors[str(index)]} for index,item in enumerate(data40) ]"
   ]
  },
  {
   "cell_type": "code",
   "execution_count": 15,
   "id": "88b5fa76",
   "metadata": {},
   "outputs": [],
   "source": [
    "new_data41=[{**item, 'product_look_like_color': dict_colors[str(index)]} for index,item in enumerate(data41) ]"
   ]
  },
  {
   "cell_type": "code",
   "execution_count": null,
   "id": "57074684",
   "metadata": {},
   "outputs": [],
   "source": []
  },
  {
   "cell_type": "code",
   "execution_count": 16,
   "id": "4a710731",
   "metadata": {},
   "outputs": [],
   "source": [
    "with open('market_data_processed_v4_0.json','w',encoding='utf-8') as f:\n",
    "    json.dump(new_data40,f,indent=4)\n",
    "with open('market_data_processed_v4_1.json','w',encoding='utf-8') as f:\n",
    "    json.dump(new_data41,f,indent=4)"
   ]
  },
  {
   "cell_type": "code",
   "execution_count": 17,
   "id": "8d3029ed",
   "metadata": {},
   "outputs": [
    {
     "data": {
      "text/plain": [
       "Counter({'darkcharcoal': 297,\n",
       "         'gunmetal': 98,\n",
       "         'gainsboro': 64,\n",
       "         'whitesmoke': 57,\n",
       "         'taupe': 51,\n",
       "         'snow': 47,\n",
       "         'dimgray': 31,\n",
       "         'black': 29,\n",
       "         'gray': 28,\n",
       "         'lavender': 25,\n",
       "         'charcoal': 22,\n",
       "         'silver': 22,\n",
       "         'lightgray': 19,\n",
       "         'darkgray': 15,\n",
       "         'lightslategray': 13,\n",
       "         'linen': 13,\n",
       "         'darkslategray': 12,\n",
       "         'mustard': 10,\n",
       "         'rosybrown': 10,\n",
       "         'white': 10,\n",
       "         'tan': 8,\n",
       "         'steelblue': 7,\n",
       "         'peru': 7,\n",
       "         'slategray': 7,\n",
       "         'ghostwhite': 7,\n",
       "         'apricot': 6,\n",
       "         'antiquewhite': 6,\n",
       "         'powderblue': 6,\n",
       "         'ashgray': 6,\n",
       "         'brown': 6,\n",
       "         'indianred': 5,\n",
       "         'darkorange': 4,\n",
       "         'pearl': 4,\n",
       "         'khaki': 4,\n",
       "         'vermilion': 3,\n",
       "         'goldmetallic': 3,\n",
       "         'lightgreen': 3,\n",
       "         'sapphire': 3,\n",
       "         'firebrick': 3,\n",
       "         'eggplant': 3,\n",
       "         'pastelpink': 3,\n",
       "         'sienna': 2,\n",
       "         'darkslateblue': 2,\n",
       "         'mediumturquoise': 2,\n",
       "         'darkbrown': 2,\n",
       "         'coffee': 2,\n",
       "         'mediumaquamarine': 1,\n",
       "         'goldenrod': 1,\n",
       "         'darkkhaki': 1,\n",
       "         'cadetblue': 1,\n",
       "         'midnightblue': 1,\n",
       "         'wine': 1,\n",
       "         'tomato': 1,\n",
       "         'mistyrose': 1,\n",
       "         'saddlebrown': 1,\n",
       "         'burgundy': 1,\n",
       "         'pastelblue': 1,\n",
       "         'lightseagreen': 1,\n",
       "         'amaranth': 1})"
      ]
     },
     "execution_count": 17,
     "metadata": {},
     "output_type": "execute_result"
    }
   ],
   "source": [
    "from collections import Counter\n",
    "count=Counter(item['product_look_like_color'] for item in new_data40)\n",
    "count"
   ]
  },
  {
   "cell_type": "code",
   "execution_count": 18,
   "id": "8339d261",
   "metadata": {},
   "outputs": [],
   "source": [
    "import pandas as pd \n",
    "df=pd.DataFrame(new_data41)"
   ]
  },
  {
   "cell_type": "code",
   "execution_count": 22,
   "id": "27248be3",
   "metadata": {},
   "outputs": [
    {
     "name": "stdout",
     "output_type": "stream",
     "text": [
      "Requirement already satisfied: openpyxl in d:\\bdia\\semestre 4\\analyse du web\\final project\\webenv\\lib\\site-packages (3.1.5)\n",
      "Requirement already satisfied: et-xmlfile in d:\\bdia\\semestre 4\\analyse du web\\final project\\webenv\\lib\\site-packages (from openpyxl) (2.0.0)\n",
      "Note: you may need to restart the kernel to use updated packages.\n"
     ]
    },
    {
     "name": "stderr",
     "output_type": "stream",
     "text": [
      "\n",
      "[notice] A new release of pip is available: 24.0 -> 25.1.1\n",
      "[notice] To update, run: python.exe -m pip install --upgrade pip\n"
     ]
    }
   ],
   "source": [
    "%pip install openpyxl\n",
    "\n",
    "df.to_excel('market_data_processed_v4_1.xlsx', index=False)\n",
    "df.to_csv('market_data_processed_v4_1.csv', index=False, encoding='utf-8')"
   ]
  },
  {
   "cell_type": "code",
   "execution_count": 21,
   "id": "bf5b7ee6",
   "metadata": {},
   "outputs": [
    {
     "name": "stdout",
     "output_type": "stream",
     "text": [
      "Collecting openpyxl\n",
      "  Using cached openpyxl-3.1.5-py2.py3-none-any.whl.metadata (2.5 kB)\n",
      "Collecting et-xmlfile (from openpyxl)\n",
      "  Using cached et_xmlfile-2.0.0-py3-none-any.whl.metadata (2.7 kB)\n",
      "Using cached openpyxl-3.1.5-py2.py3-none-any.whl (250 kB)\n",
      "Using cached et_xmlfile-2.0.0-py3-none-any.whl (18 kB)\n",
      "Installing collected packages: et-xmlfile, openpyxl\n",
      "Successfully installed et-xmlfile-2.0.0 openpyxl-3.1.5\n",
      "Note: you may need to restart the kernel to use updated packages.\n"
     ]
    },
    {
     "name": "stderr",
     "output_type": "stream",
     "text": [
      "\n",
      "[notice] A new release of pip is available: 24.0 -> 25.1.1\n",
      "[notice] To update, run: python.exe -m pip install --upgrade pip\n"
     ]
    }
   ],
   "source": [
    "%pip install openpyxl"
   ]
  },
  {
   "cell_type": "code",
   "execution_count": null,
   "id": "7a5afff6",
   "metadata": {},
   "outputs": [],
   "source": []
  }
 ],
 "metadata": {
  "kernelspec": {
   "display_name": "webenv",
   "language": "python",
   "name": "python3"
  },
  "language_info": {
   "codemirror_mode": {
    "name": "ipython",
    "version": 3
   },
   "file_extension": ".py",
   "mimetype": "text/x-python",
   "name": "python",
   "nbconvert_exporter": "python",
   "pygments_lexer": "ipython3",
   "version": "3.12.3"
  }
 },
 "nbformat": 4,
 "nbformat_minor": 5
}
