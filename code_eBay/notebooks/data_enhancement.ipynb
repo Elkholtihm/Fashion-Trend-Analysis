{
 "cells": [
  {
   "cell_type": "code",
   "execution_count": 4,
   "id": "1d8580d2",
   "metadata": {},
   "outputs": [
    {
     "name": "stderr",
     "output_type": "stream",
     "text": [
      "d:\\BDIA\\semestre 4\\Analyse du web\\final project\\webenv\\Lib\\site-packages\\tqdm\\auto.py:21: TqdmWarning: IProgress not found. Please update jupyter and ipywidgets. See https://ipywidgets.readthedocs.io/en/stable/user_install.html\n",
      "  from .autonotebook import tqdm as notebook_tqdm\n",
      "Device set to use cpu\n"
     ]
    }
   ],
   "source": [
    "import os\n",
    "import json\n",
    "import sys\n",
    "import os\n",
    "\n",
    "# Add the parent directory to sys.path to allow imports from src\n",
    "sys.path.append(os.path.abspath(\"../\"))\n",
    "from models.categorize import assign_category"
   ]
  },
  {
   "cell_type": "code",
   "execution_count": 5,
   "id": "e8b81ce2",
   "metadata": {},
   "outputs": [],
   "source": [
    "os.chdir(r'D:\\BDIA\\semestre 4\\Analyse du web\\final project\\data\\processed_data')"
   ]
  },
  {
   "cell_type": "code",
   "execution_count": 6,
   "id": "3592c922",
   "metadata": {},
   "outputs": [
    {
     "data": {
      "text/plain": [
       "['file.txt',\n",
       " 'market_data_processed_v1.json',\n",
       " 'market_data_processed_v2.json',\n",
       " 'market_data_processed_v3.json',\n",
       " 'market_data_processed_v4_0.json',\n",
       " 'market_data_processed_v4_1.csv',\n",
       " 'market_data_processed_v4_1.json',\n",
       " 'market_data_processed_v4_1.xlsx',\n",
       " '~$market_data_processed_v4_1.xlsx']"
      ]
     },
     "execution_count": 6,
     "metadata": {},
     "output_type": "execute_result"
    }
   ],
   "source": [
    "os.listdir()"
   ]
  },
  {
   "cell_type": "code",
   "execution_count": 7,
   "id": "a300246b",
   "metadata": {},
   "outputs": [],
   "source": [
    "with open('market_data_processed_v2.json','r',encoding='utf-8') as f:\n",
    "    data=json.load(f)"
   ]
  },
  {
   "cell_type": "code",
   "execution_count": null,
   "id": "9b6ebeb8",
   "metadata": {},
   "outputs": [
    {
     "data": {
      "text/plain": [
       "{13}"
      ]
     },
     "execution_count": 74,
     "metadata": {},
     "output_type": "execute_result"
    }
   ],
   "source": []
  },
  {
   "cell_type": "code",
   "execution_count": null,
   "id": "3fa5182d",
   "metadata": {},
   "outputs": [],
   "source": [
    "for item in data:\n",
    "    item['category'] = assign_category(item['title'])"
   ]
  },
  {
   "cell_type": "code",
   "execution_count": 81,
   "id": "5ea077d3",
   "metadata": {},
   "outputs": [
    {
     "data": {
      "text/plain": [
       "{'title': \"Vans New SlipOn Classic Sneakers Unisex Canvas Shoes All Colors Men's/Women's\",\n",
       " 'price': 44.99,\n",
       " 'delivery_price': '+$83.77 delivery',\n",
       " 'location': 'United States',\n",
       " 'product_link': 'https://www.ebay.com/itm/226647029055?_skw=women&hash=item34c537353f:g:j0YAAOSwepdoAYxY&itmprp=enc%3AAQAKAAAAwFkggFvd1GGDu0w3yXCmi1e%2BieoDAr3GwBT7swkH8fI0k6P8Hz8er64f5lDl%2BFfg76t61mZM39Y6goPtFWPcOqlZ7Erw%2FS005peKNQU%2BFTUliXRqNGsCc16%2FJBQRqJFpm5GuFKZzYpYHmrbfVXGUnxhxlxrKcBv%2FXNu%2BeEdBxJabC%2FMUd8vZP8L9NtjSJY9zLyIO8qnDyJ9hQ%2BPt3X9S3jzdR0iZdUbeZvnkJXWNnUYWCk7ZwtYcQcxyaX49YMk8sw%3D%3D%7Ctkp%3ABk9SR4bj-9reZQ',\n",
       " 'image_link': 'https://i.ebayimg.com/images/g/j0YAAOSwepdoAYxY/s-l140.jpg',\n",
       " 'sex': 'F',\n",
       " 'event_breath1': 'Breathe easy. Returns accepted.',\n",
       " 'event_breath2': \"This one's trending. 89 have already sold.\",\n",
       " 'feedback': [['Past month', 'Killer shoe perfect fit🌊🌊🇯🇵🇯🇵'],\n",
       "  ['Past month', 'Great price and products!'],\n",
       "  ['Past month', 'As described fast shipping ! Thank you'],\n",
       "  ['Past 6 months', 'Exactly as described. 10/10 would recommend!!'],\n",
       "  ['Past month', 'Thank you for the fast transaction'],\n",
       "  ['Past 6 months', 'Fast delivery thank you'],\n",
       "  ['Past month', 'Great!'],\n",
       "  ['Past month', 'Perfect']],\n",
       " 'delivery_category': 'Paid Delivery',\n",
       " 'clean_delivery_price': 83.77,\n",
       " 'feedback_count': 'Seller feedback (579)',\n",
       " 'category': 'Shoes'}"
      ]
     },
     "execution_count": 81,
     "metadata": {},
     "output_type": "execute_result"
    }
   ],
   "source": [
    "data[999]"
   ]
  },
  {
   "cell_type": "markdown",
   "id": "9c9a1e5b",
   "metadata": {},
   "source": []
  },
  {
   "cell_type": "code",
   "execution_count": 77,
   "id": "477ea0e9",
   "metadata": {},
   "outputs": [
    {
     "name": "stdout",
     "output_type": "stream",
     "text": [
      "Blouse: 46\n",
      "Overalls: 57\n",
      "T-shirt: 329\n",
      "Sweater: 23\n",
      "Tank Top: 118\n",
      "Shoes: 36\n",
      "Beanie: 19\n",
      "Sandals: 17\n",
      "Sweatpants: 12\n",
      "Jeans: 23\n",
      "Hoodie: 23\n",
      "Earrings: 2\n",
      "Leggings: 14\n",
      "Watch: 3\n",
      "Shorts: 3\n",
      "Cap: 9\n",
      "Jacket: 5\n",
      "Handbag: 9\n",
      "Socks: 39\n",
      "Coat: 1\n",
      "Belt: 10\n",
      "Sunglasses: 152\n",
      "Backpack: 12\n",
      "Scarf: 24\n",
      "Wallet: 12\n",
      "Skirt: 1\n",
      "Gloves: 1\n"
     ]
    }
   ],
   "source": [
    "from collections import Counter\n",
    "\n",
    "# Suppose your data is stored in a list called `products`\n",
    "# Example:\n",
    "# products = [ {...}, {...}, {...} ]\n",
    "\n",
    "# Extract categories\n",
    "predicted_categories = [item[\"category\"] for item in data]\n",
    "\n",
    "# Count categories\n",
    "category_counts = Counter(predicted_categories)\n",
    "\n",
    "# Display results\n",
    "for category, count in category_counts.items():\n",
    "    print(f\"{category}: {count}\")\n"
   ]
  },
  {
   "cell_type": "code",
   "execution_count": 82,
   "id": "06ad3d43",
   "metadata": {},
   "outputs": [],
   "source": [
    "with open('market_data_processed_v3.json','w',encoding='utf-8') as f:\n",
    "    json.dump(data,f,ensure_ascii=False,indent=4)"
   ]
  },
  {
   "cell_type": "code",
   "execution_count": 12,
   "id": "429580a3",
   "metadata": {},
   "outputs": [],
   "source": [
    "with open('file.txt','w',encoding='utf-8') as f:\n",
    "    for title in data[500:750]:\n",
    "        f.write(title['title']+'\\n')\n"
   ]
  },
  {
   "cell_type": "code",
   "execution_count": 11,
   "id": "1cb9c07f",
   "metadata": {},
   "outputs": [
    {
     "data": {
      "text/plain": [
       "{'title': 'Diadora Camaro Unisex Sneaker Athletic Shoes Sneakers Casual Shoes',\n",
       " 'price': 95.91,\n",
       " 'delivery_price': '+$29.90 delivery',\n",
       " 'location': 'Germany',\n",
       " 'product_link': 'https://www.ebay.com/itm/256355221612?_skw=women&hash=item3baff6406c:g:M7cAAOSwN4hlI8eS&itmprp=enc%3AAQAKAAAA4FkggFvd1GGDu0w3yXCmi1eNEuM%2F1zZLoZ4vBxV9Aua5YtpOtV5xCXLWC1dDWFJrY%2FDhlHxMRC60cmvTGTuqkPqnfuTCuKNJxSv0pPLK1yb5x%2FlQk0rtGffWNkwml1gZcpXJQtftrrtIdLad%2BufmjWmlHRxwunRcoVPFvYJXFX%2BE%2B5eMnZOwUfWCf%2F2w530eW5JeNBEsAtsdmzOFsGUqWrUsVJxOcgx5SxFQtXJMvLAUD6OuK8EJBTsAI%2FkN5wLjFAm0gclMI6vLVBXDKtKLuC9BrJyJ6WfGe9kghx1D%2Bh%2BL%7Ctkp%3ABk9SR_r9_treZQ',\n",
       " 'image_link': 'https://i.ebayimg.com/images/g/M7cAAOSwN4hlI8eS/s-l140.jpg',\n",
       " 'sex': 'F',\n",
       " 'event_breath1': 'People want this. 53 people are watching this.',\n",
       " 'event_breath2': \"This one's trending. 41 have already sold.\",\n",
       " 'feedback': [['Past 6 months',\n",
       "   'Topneue Sneaker von Diadora , schnell und sicher bei mir angekommen; besten Dank!'],\n",
       "  ['Past year', 'Super Turnschuh schnell geliefert alles Tip top😊😊'],\n",
       "  ['Past 6 months', 'Alles genau wie beschrieben. danke!'],\n",
       "  ['Past 6 months', 'Alles ok 👌'],\n",
       "  ['Past 6 months', 'Excellent'],\n",
       "  ['Past year', 'top'],\n",
       "  ['Past year', 'alles bestens'],\n",
       "  ['Past year', 'Super Ware.']],\n",
       " 'delivery_category': 'Paid Delivery',\n",
       " 'clean_delivery_price': 29.9,\n",
       " 'feedback_count': 'Seller feedback (67,836)'}"
      ]
     },
     "execution_count": 11,
     "metadata": {},
     "output_type": "execute_result"
    }
   ],
   "source": [
    "data[751]"
   ]
  },
  {
   "cell_type": "code",
   "execution_count": null,
   "id": "c7cb5d77",
   "metadata": {},
   "outputs": [],
   "source": []
  }
 ],
 "metadata": {
  "kernelspec": {
   "display_name": "webenv",
   "language": "python",
   "name": "python3"
  },
  "language_info": {
   "codemirror_mode": {
    "name": "ipython",
    "version": 3
   },
   "file_extension": ".py",
   "mimetype": "text/x-python",
   "name": "python",
   "nbconvert_exporter": "python",
   "pygments_lexer": "ipython3",
   "version": "3.12.3"
  }
 },
 "nbformat": 4,
 "nbformat_minor": 5
}
